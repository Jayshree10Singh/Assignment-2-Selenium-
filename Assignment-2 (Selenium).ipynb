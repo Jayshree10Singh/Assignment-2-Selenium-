{
 "cells": [
  {
   "cell_type": "markdown",
   "id": "7f243288",
   "metadata": {},
   "source": [
    "# Web Scraping-Assignment-2"
   ]
  },
  {
   "cell_type": "markdown",
   "id": "03f88b54",
   "metadata": {},
   "source": [
    "# Answer-1"
   ]
  },
  {
   "cell_type": "code",
   "execution_count": 215,
   "id": "87377d56",
   "metadata": {},
   "outputs": [
    {
     "name": "stdout",
     "output_type": "stream",
     "text": [
      "Requirement already satisfied: selenium in c:\\users\\lenovo\\anaconda3\\lib\\site-packages (4.4.0)\n",
      "Requirement already satisfied: trio-websocket~=0.9 in c:\\users\\lenovo\\anaconda3\\lib\\site-packages (from selenium) (0.9.2)\n",
      "Requirement already satisfied: trio~=0.17 in c:\\users\\lenovo\\anaconda3\\lib\\site-packages (from selenium) (0.21.0)\n",
      "Requirement already satisfied: urllib3[secure,socks]~=1.26 in c:\\users\\lenovo\\anaconda3\\lib\\site-packages (from selenium) (1.26.7)\n",
      "Requirement already satisfied: outcome in c:\\users\\lenovo\\anaconda3\\lib\\site-packages (from trio~=0.17->selenium) (1.2.0)\n",
      "Requirement already satisfied: cffi>=1.14 in c:\\users\\lenovo\\anaconda3\\lib\\site-packages (from trio~=0.17->selenium) (1.14.6)\n",
      "Requirement already satisfied: attrs>=19.2.0 in c:\\users\\lenovo\\anaconda3\\lib\\site-packages (from trio~=0.17->selenium) (21.2.0)\n",
      "Requirement already satisfied: sortedcontainers in c:\\users\\lenovo\\anaconda3\\lib\\site-packages (from trio~=0.17->selenium) (2.4.0)\n",
      "Requirement already satisfied: async-generator>=1.9 in c:\\users\\lenovo\\anaconda3\\lib\\site-packages (from trio~=0.17->selenium) (1.10)\n",
      "Requirement already satisfied: idna in c:\\users\\lenovo\\anaconda3\\lib\\site-packages (from trio~=0.17->selenium) (3.2)\n",
      "Requirement already satisfied: sniffio in c:\\users\\lenovo\\anaconda3\\lib\\site-packages (from trio~=0.17->selenium) (1.2.0)\n",
      "Requirement already satisfied: pycparser in c:\\users\\lenovo\\anaconda3\\lib\\site-packages (from cffi>=1.14->trio~=0.17->selenium) (2.20)\n",
      "Requirement already satisfied: wsproto>=0.14 in c:\\users\\lenovo\\anaconda3\\lib\\site-packages (from trio-websocket~=0.9->selenium) (1.1.0)\n",
      "Requirement already satisfied: pyOpenSSL>=0.14 in c:\\users\\lenovo\\anaconda3\\lib\\site-packages (from urllib3[secure,socks]~=1.26->selenium) (21.0.0)\n",
      "Requirement already satisfied: cryptography>=1.3.4 in c:\\users\\lenovo\\anaconda3\\lib\\site-packages (from urllib3[secure,socks]~=1.26->selenium) (3.4.8)\n",
      "Requirement already satisfied: certifi in c:\\users\\lenovo\\anaconda3\\lib\\site-packages (from urllib3[secure,socks]~=1.26->selenium) (2021.10.8)\n",
      "Requirement already satisfied: PySocks!=1.5.7,<2.0,>=1.5.6 in c:\\users\\lenovo\\anaconda3\\lib\\site-packages (from urllib3[secure,socks]~=1.26->selenium) (1.7.1)\n",
      "Requirement already satisfied: six>=1.5.2 in c:\\users\\lenovo\\anaconda3\\lib\\site-packages (from pyOpenSSL>=0.14->urllib3[secure,socks]~=1.26->selenium) (1.16.0)\n",
      "Requirement already satisfied: h11<1,>=0.9.0 in c:\\users\\lenovo\\anaconda3\\lib\\site-packages (from wsproto>=0.14->trio-websocket~=0.9->selenium) (0.13.0)\n"
     ]
    }
   ],
   "source": [
    "!pip install selenium"
   ]
  },
  {
   "cell_type": "code",
   "execution_count": 216,
   "id": "91eb1c8d",
   "metadata": {},
   "outputs": [],
   "source": [
    "import selenium\n",
    "import pandas as pd\n",
    "from selenium import webdriver\n",
    "import warnings\n",
    "warnings.filterwarnings('ignore')\n",
    "from selenium.common.exceptions import StaleElementReferenceException, NoSuchElementException\n",
    "from selenium.webdriver.common.by import By\n",
    "import time"
   ]
  },
  {
   "cell_type": "code",
   "execution_count": 194,
   "id": "0d243a09",
   "metadata": {},
   "outputs": [],
   "source": [
    "driver=webdriver.Chrome(r\"chromedriver.exe\")"
   ]
  },
  {
   "cell_type": "code",
   "execution_count": 195,
   "id": "8c7f5ecb",
   "metadata": {},
   "outputs": [],
   "source": [
    "driver.get(\"https://www.naukri.com\")"
   ]
  },
  {
   "cell_type": "code",
   "execution_count": 186,
   "id": "c5f8a7d5",
   "metadata": {},
   "outputs": [],
   "source": [
    "designation=driver.find_element(By.CLASS_NAME,\"suggestor-input \")\n",
    "designation.send_keys('Data Analyst')"
   ]
  },
  {
   "cell_type": "code",
   "execution_count": 187,
   "id": "5a90e2c6",
   "metadata": {},
   "outputs": [],
   "source": [
    "location=driver.find_element(By.XPATH,\"/html/body/div[1]/div[2]/div[3]/div/div/div[5]/div/div/div/input\")\n",
    "location.send_keys('Banglore')"
   ]
  },
  {
   "cell_type": "code",
   "execution_count": 188,
   "id": "9ff76514",
   "metadata": {},
   "outputs": [],
   "source": [
    "search=driver.find_element(By.CLASS_NAME,\"qsbSubmit\")\n",
    "search.click()"
   ]
  },
  {
   "cell_type": "code",
   "execution_count": 189,
   "id": "cfaa4d37",
   "metadata": {},
   "outputs": [],
   "source": [
    "job_title=[] \n",
    "job_location=[]\n",
    "company_name=[]\n",
    "experience_required=[]"
   ]
  },
  {
   "cell_type": "code",
   "execution_count": 190,
   "id": "1a56d6a6",
   "metadata": {},
   "outputs": [],
   "source": [
    "title_tags=driver.find_elements(By.XPATH,'//a[@class=\"title fw500 ellipsis\"]')\n",
    "for i in title_tags[0:10]: \n",
    "     title=i.text\n",
    "     job_title.append(title)\n",
    "    \n",
    "location_tags=driver.find_elements(By.XPATH,'//li[@class=\"fleft grey-text br2 placeHolderLi location\"]')\n",
    "for i in location_tags[0:10]:\n",
    "    location=i.text\n",
    "    job_location.append(location)\n",
    "\n",
    "company_tags=driver.find_elements(By.XPATH,'//a[@class=\"subTitle ellipsis fleft\"]')\n",
    "for i in company_tags[0:10]:\n",
    "    company=i.text\n",
    "    company_name.append(company)\n",
    "    \n",
    "experience_tags=driver.find_elements(By.XPATH,'//li[@class=\"fleft grey-text br2 placeHolderLi experience\"]//span')\n",
    "for i in experience_tags[0:10]:\n",
    "    exp=i.text\n",
    "    experience_required.append(exp)\n",
    "    "
   ]
  },
  {
   "cell_type": "code",
   "execution_count": 191,
   "id": "26da0c76",
   "metadata": {},
   "outputs": [
    {
     "name": "stdout",
     "output_type": "stream",
     "text": [
      "10 10 10 10\n"
     ]
    }
   ],
   "source": [
    "print(len(job_title),len(job_location),len(company_name),len(experience_required))"
   ]
  },
  {
   "cell_type": "code",
   "execution_count": 192,
   "id": "91c94e89",
   "metadata": {},
   "outputs": [
    {
     "data": {
      "text/html": [
       "<div>\n",
       "<style scoped>\n",
       "    .dataframe tbody tr th:only-of-type {\n",
       "        vertical-align: middle;\n",
       "    }\n",
       "\n",
       "    .dataframe tbody tr th {\n",
       "        vertical-align: top;\n",
       "    }\n",
       "\n",
       "    .dataframe thead th {\n",
       "        text-align: right;\n",
       "    }\n",
       "</style>\n",
       "<table border=\"1\" class=\"dataframe\">\n",
       "  <thead>\n",
       "    <tr style=\"text-align: right;\">\n",
       "      <th></th>\n",
       "      <th>Job_title</th>\n",
       "      <th>Job_location</th>\n",
       "      <th>Company_name</th>\n",
       "      <th>Exp_required</th>\n",
       "    </tr>\n",
       "  </thead>\n",
       "  <tbody>\n",
       "    <tr>\n",
       "      <th>0</th>\n",
       "      <td>Business &amp; Data Analyst- Assistant Manager</td>\n",
       "      <td>Hyderabad/Secunderabad, Bangalore/Bengaluru</td>\n",
       "      <td>State Street</td>\n",
       "      <td>1-3 Yrs</td>\n",
       "    </tr>\n",
       "    <tr>\n",
       "      <th>1</th>\n",
       "      <td>Senior Data Analyst</td>\n",
       "      <td>Bangalore/Bengaluru(Old Madras Road)</td>\n",
       "      <td>KrazyBee</td>\n",
       "      <td>3-6 Yrs</td>\n",
       "    </tr>\n",
       "    <tr>\n",
       "      <th>2</th>\n",
       "      <td>Senior Data Analyst</td>\n",
       "      <td>Bangalore/Bengaluru</td>\n",
       "      <td>Qualitest India Private Limited</td>\n",
       "      <td>5-8 Yrs</td>\n",
       "    </tr>\n",
       "    <tr>\n",
       "      <th>3</th>\n",
       "      <td>Sr. Data Analyst</td>\n",
       "      <td>Pune, Bangalore/Bengaluru</td>\n",
       "      <td>Global Indian School Education Services</td>\n",
       "      <td>6-11 Yrs</td>\n",
       "    </tr>\n",
       "    <tr>\n",
       "      <th>4</th>\n",
       "      <td>Sr Clinical Data Analyst</td>\n",
       "      <td>Bangalore/Bengaluru</td>\n",
       "      <td>LabCorp</td>\n",
       "      <td>2-5 Yrs</td>\n",
       "    </tr>\n",
       "    <tr>\n",
       "      <th>5</th>\n",
       "      <td>Data Analyst</td>\n",
       "      <td>Ahmedabad, Bangalore/Bengaluru</td>\n",
       "      <td>milestone internet marketing pvt ltd</td>\n",
       "      <td>2-7 Yrs</td>\n",
       "    </tr>\n",
       "    <tr>\n",
       "      <th>6</th>\n",
       "      <td>Data Analyst</td>\n",
       "      <td>Bangalore/Bengaluru</td>\n",
       "      <td>Bayer</td>\n",
       "      <td>2-5 Yrs</td>\n",
       "    </tr>\n",
       "    <tr>\n",
       "      <th>7</th>\n",
       "      <td>Forecasting Analyst/ Data Scientist (US Client)</td>\n",
       "      <td>Gurgaon/Gurugram, Bangalore/Bengaluru\\n(WFH du...</td>\n",
       "      <td>Concentrix</td>\n",
       "      <td>3-8 Yrs</td>\n",
       "    </tr>\n",
       "    <tr>\n",
       "      <th>8</th>\n",
       "      <td>Senior Data Analyst</td>\n",
       "      <td>Bangalore/Bengaluru</td>\n",
       "      <td>Optum</td>\n",
       "      <td>5-7 Yrs</td>\n",
       "    </tr>\n",
       "    <tr>\n",
       "      <th>9</th>\n",
       "      <td>Senior Analyst/Data Scientist</td>\n",
       "      <td>Kolkata, Hyderabad/Secunderabad, Pune, Chennai...</td>\n",
       "      <td>JoulestoWatts</td>\n",
       "      <td>6-9 Yrs</td>\n",
       "    </tr>\n",
       "  </tbody>\n",
       "</table>\n",
       "</div>"
      ],
      "text/plain": [
       "                                         Job_title  \\\n",
       "0       Business & Data Analyst- Assistant Manager   \n",
       "1                              Senior Data Analyst   \n",
       "2                              Senior Data Analyst   \n",
       "3                                 Sr. Data Analyst   \n",
       "4                         Sr Clinical Data Analyst   \n",
       "5                                     Data Analyst   \n",
       "6                                     Data Analyst   \n",
       "7  Forecasting Analyst/ Data Scientist (US Client)   \n",
       "8                              Senior Data Analyst   \n",
       "9                    Senior Analyst/Data Scientist   \n",
       "\n",
       "                                        Job_location  \\\n",
       "0        Hyderabad/Secunderabad, Bangalore/Bengaluru   \n",
       "1               Bangalore/Bengaluru(Old Madras Road)   \n",
       "2                                Bangalore/Bengaluru   \n",
       "3                          Pune, Bangalore/Bengaluru   \n",
       "4                                Bangalore/Bengaluru   \n",
       "5                     Ahmedabad, Bangalore/Bengaluru   \n",
       "6                                Bangalore/Bengaluru   \n",
       "7  Gurgaon/Gurugram, Bangalore/Bengaluru\\n(WFH du...   \n",
       "8                                Bangalore/Bengaluru   \n",
       "9  Kolkata, Hyderabad/Secunderabad, Pune, Chennai...   \n",
       "\n",
       "                              Company_name Exp_required  \n",
       "0                             State Street      1-3 Yrs  \n",
       "1                                 KrazyBee      3-6 Yrs  \n",
       "2          Qualitest India Private Limited      5-8 Yrs  \n",
       "3  Global Indian School Education Services     6-11 Yrs  \n",
       "4                                  LabCorp      2-5 Yrs  \n",
       "5     milestone internet marketing pvt ltd      2-7 Yrs  \n",
       "6                                    Bayer      2-5 Yrs  \n",
       "7                               Concentrix      3-8 Yrs  \n",
       "8                                    Optum      5-7 Yrs  \n",
       "9                            JoulestoWatts      6-9 Yrs  "
      ]
     },
     "execution_count": 192,
     "metadata": {},
     "output_type": "execute_result"
    }
   ],
   "source": [
    "df=pd.DataFrame({'Job_title':job_title,'Job_location':job_location,'Company_name':company_name,'Exp_required':experience_required})\n",
    "df"
   ]
  },
  {
   "cell_type": "markdown",
   "id": "7b2e66c3",
   "metadata": {},
   "source": [
    "# Answer-2"
   ]
  },
  {
   "cell_type": "code",
   "execution_count": 196,
   "id": "f630eb73",
   "metadata": {},
   "outputs": [],
   "source": [
    "designation=driver.find_element(By.CLASS_NAME,\"suggestor-input \")\n",
    "designation.send_keys('Data Scientist')"
   ]
  },
  {
   "cell_type": "code",
   "execution_count": 19,
   "id": "43607100",
   "metadata": {},
   "outputs": [],
   "source": [
    "location=driver.find_element(By.XPATH,\"/html/body/div[1]/div[2]/div[3]/div/div/div[5]/div/div/div/input\")\n",
    "location.send_keys('Banglore')"
   ]
  },
  {
   "cell_type": "code",
   "execution_count": 20,
   "id": "97fab3a6",
   "metadata": {},
   "outputs": [],
   "source": [
    "search=driver.find_element(By.CLASS_NAME,\"qsbSubmit\")\n",
    "search.click()"
   ]
  },
  {
   "cell_type": "code",
   "execution_count": 21,
   "id": "33803034",
   "metadata": {},
   "outputs": [],
   "source": [
    "job_title=[] \n",
    "job_location=[]\n",
    "company_name=[]"
   ]
  },
  {
   "cell_type": "code",
   "execution_count": 22,
   "id": "5d1376a5",
   "metadata": {},
   "outputs": [],
   "source": [
    "title_tags=driver.find_elements(By.XPATH,'//a[@class=\"title fw500 ellipsis\"]')\n",
    "for i in title_tags[0:10]: \n",
    "     title=i.text\n",
    "     job_title.append(title)\n",
    "    \n",
    "location_tags=driver.find_elements(By.XPATH,'//li[@class=\"fleft grey-text br2 placeHolderLi location\"]')\n",
    "for i in location_tags[0:10]:\n",
    "    location=i.text\n",
    "    job_location.append(location)\n",
    "    \n",
    "company_tags=driver.find_elements(By.XPATH,'//a[@class=\"subTitle ellipsis fleft\"]')\n",
    "for i in company_tags[0:10]:\n",
    "    company=i.text\n",
    "    company_name.append(company)"
   ]
  },
  {
   "cell_type": "code",
   "execution_count": 23,
   "id": "633e9566",
   "metadata": {},
   "outputs": [
    {
     "name": "stdout",
     "output_type": "stream",
     "text": [
      "10 10 10\n"
     ]
    }
   ],
   "source": [
    "print(len(job_title),len(job_location),len(company_name))"
   ]
  },
  {
   "cell_type": "code",
   "execution_count": 24,
   "id": "29d7a217",
   "metadata": {},
   "outputs": [
    {
     "data": {
      "text/html": [
       "<div>\n",
       "<style scoped>\n",
       "    .dataframe tbody tr th:only-of-type {\n",
       "        vertical-align: middle;\n",
       "    }\n",
       "\n",
       "    .dataframe tbody tr th {\n",
       "        vertical-align: top;\n",
       "    }\n",
       "\n",
       "    .dataframe thead th {\n",
       "        text-align: right;\n",
       "    }\n",
       "</style>\n",
       "<table border=\"1\" class=\"dataframe\">\n",
       "  <thead>\n",
       "    <tr style=\"text-align: right;\">\n",
       "      <th></th>\n",
       "      <th>Job_title</th>\n",
       "      <th>Job_location</th>\n",
       "      <th>Company_name</th>\n",
       "    </tr>\n",
       "  </thead>\n",
       "  <tbody>\n",
       "    <tr>\n",
       "      <th>0</th>\n",
       "      <td>Lead ML Scientist</td>\n",
       "      <td>Mumbai, Bangalore/Bengaluru</td>\n",
       "      <td>Fractal Analytics</td>\n",
       "    </tr>\n",
       "    <tr>\n",
       "      <th>1</th>\n",
       "      <td>Senior Manager - EmTech - Machine Learning - P&amp;T</td>\n",
       "      <td>Mumbai, Hyderabad/Secunderabad, Bangalore/Beng...</td>\n",
       "      <td>PwC</td>\n",
       "    </tr>\n",
       "    <tr>\n",
       "      <th>2</th>\n",
       "      <td>Analystics &amp; Modeling Specialist</td>\n",
       "      <td>Kolkata, Mumbai, Hyderabad/Secunderabad, Pune,...</td>\n",
       "      <td>Accenture</td>\n",
       "    </tr>\n",
       "    <tr>\n",
       "      <th>3</th>\n",
       "      <td>Data scientist _Tata Consultancy Services(Tcs)</td>\n",
       "      <td>Kochi/Cochin, Indore, New Delhi, Hyderabad/Sec...</td>\n",
       "      <td>TATA CONSULTANCY SERVICES (TCS)</td>\n",
       "    </tr>\n",
       "    <tr>\n",
       "      <th>4</th>\n",
       "      <td>Job||Job Opening For AI Technologist - Data Sc...</td>\n",
       "      <td>New Delhi, Hyderabad/Secunderabad, Pune, Chenn...</td>\n",
       "      <td>Wipro</td>\n",
       "    </tr>\n",
       "    <tr>\n",
       "      <th>5</th>\n",
       "      <td>Hiring For DATA Scientist @ NTT DATA Business ...</td>\n",
       "      <td>Noida, Hyderabad/Secunderabad, Pune, Gurgaon/G...</td>\n",
       "      <td>NTT DATA Business Solutions Private Limited</td>\n",
       "    </tr>\n",
       "    <tr>\n",
       "      <th>6</th>\n",
       "      <td>Tcs Hiring For Data Scientist</td>\n",
       "      <td>Chennai, Bangalore/Bengaluru, Mumbai (All Areas)</td>\n",
       "      <td>TATA CONSULTANCY SERVICES (TCS)</td>\n",
       "    </tr>\n",
       "    <tr>\n",
       "      <th>7</th>\n",
       "      <td>Urgent Job Opening For AI Practitioner - Data ...</td>\n",
       "      <td>Kochi/Cochin, New Delhi, Bangalore/Bengaluru, ...</td>\n",
       "      <td>Wipro</td>\n",
       "    </tr>\n",
       "    <tr>\n",
       "      <th>8</th>\n",
       "      <td>Data Scientist Python</td>\n",
       "      <td>Hyderabad/Secunderabad, Bangalore/Bengaluru</td>\n",
       "      <td>Conduent</td>\n",
       "    </tr>\n",
       "    <tr>\n",
       "      <th>9</th>\n",
       "      <td>Assistant Manager - Data Science</td>\n",
       "      <td>Mumbai, Pune, Bangalore/Bengaluru</td>\n",
       "      <td>CitiusTech</td>\n",
       "    </tr>\n",
       "  </tbody>\n",
       "</table>\n",
       "</div>"
      ],
      "text/plain": [
       "                                           Job_title  \\\n",
       "0                                  Lead ML Scientist   \n",
       "1   Senior Manager - EmTech - Machine Learning - P&T   \n",
       "2                   Analystics & Modeling Specialist   \n",
       "3     Data scientist _Tata Consultancy Services(Tcs)   \n",
       "4  Job||Job Opening For AI Technologist - Data Sc...   \n",
       "5  Hiring For DATA Scientist @ NTT DATA Business ...   \n",
       "6                      Tcs Hiring For Data Scientist   \n",
       "7  Urgent Job Opening For AI Practitioner - Data ...   \n",
       "8                              Data Scientist Python   \n",
       "9                   Assistant Manager - Data Science   \n",
       "\n",
       "                                        Job_location  \\\n",
       "0                        Mumbai, Bangalore/Bengaluru   \n",
       "1  Mumbai, Hyderabad/Secunderabad, Bangalore/Beng...   \n",
       "2  Kolkata, Mumbai, Hyderabad/Secunderabad, Pune,...   \n",
       "3  Kochi/Cochin, Indore, New Delhi, Hyderabad/Sec...   \n",
       "4  New Delhi, Hyderabad/Secunderabad, Pune, Chenn...   \n",
       "5  Noida, Hyderabad/Secunderabad, Pune, Gurgaon/G...   \n",
       "6   Chennai, Bangalore/Bengaluru, Mumbai (All Areas)   \n",
       "7  Kochi/Cochin, New Delhi, Bangalore/Bengaluru, ...   \n",
       "8        Hyderabad/Secunderabad, Bangalore/Bengaluru   \n",
       "9                  Mumbai, Pune, Bangalore/Bengaluru   \n",
       "\n",
       "                                  Company_name  \n",
       "0                            Fractal Analytics  \n",
       "1                                          PwC  \n",
       "2                                    Accenture  \n",
       "3              TATA CONSULTANCY SERVICES (TCS)  \n",
       "4                                        Wipro  \n",
       "5  NTT DATA Business Solutions Private Limited  \n",
       "6              TATA CONSULTANCY SERVICES (TCS)  \n",
       "7                                        Wipro  \n",
       "8                                     Conduent  \n",
       "9                                   CitiusTech  "
      ]
     },
     "execution_count": 24,
     "metadata": {},
     "output_type": "execute_result"
    }
   ],
   "source": [
    "df=pd.DataFrame({'Job_title':job_title,'Job_location':job_location,'Company_name':company_name})\n",
    "df"
   ]
  },
  {
   "cell_type": "markdown",
   "id": "fb6afa5c",
   "metadata": {},
   "source": [
    "# Answer-3"
   ]
  },
  {
   "cell_type": "code",
   "execution_count": 25,
   "id": "ad8bca43",
   "metadata": {},
   "outputs": [],
   "source": [
    "driver.get(\"https://www.naukri.com\")"
   ]
  },
  {
   "cell_type": "code",
   "execution_count": 26,
   "id": "f29b4e77",
   "metadata": {},
   "outputs": [],
   "source": [
    "designation=driver.find_element(By.CLASS_NAME,\"suggestor-input \")\n",
    "designation.send_keys('Data Scientist')"
   ]
  },
  {
   "cell_type": "code",
   "execution_count": 27,
   "id": "2d5c0bd0",
   "metadata": {},
   "outputs": [],
   "source": [
    "location=driver.find_element(By.XPATH,\"/html/body/div[1]/div[2]/div[3]/div/div/div[5]/div/div/div/input\")\n",
    "location.send_keys('Delhi/NCR')"
   ]
  },
  {
   "cell_type": "code",
   "execution_count": 28,
   "id": "20618c0f",
   "metadata": {},
   "outputs": [],
   "source": [
    "search=driver.find_element(By.CLASS_NAME,\"qsbSubmit\")\n",
    "search.click()"
   ]
  },
  {
   "cell_type": "code",
   "execution_count": 29,
   "id": "faf643e0",
   "metadata": {},
   "outputs": [],
   "source": [
    "job_title=[] \n",
    "job_location=[]\n",
    "company_name=[]\n",
    "experience_required=[]"
   ]
  },
  {
   "cell_type": "code",
   "execution_count": 30,
   "id": "faf0e41a",
   "metadata": {},
   "outputs": [],
   "source": [
    "title_tags=driver.find_elements(By.XPATH,'//a[@class=\"title fw500 ellipsis\"]')\n",
    "for i in title_tags[0:10]: \n",
    "     title=i.text\n",
    "     job_title.append(title)\n",
    "    \n",
    "location_tags=driver.find_elements(By.XPATH,'//li[@class=\"fleft grey-text br2 placeHolderLi location\"]')\n",
    "for i in location_tags[0:10]:\n",
    "    location=i.text\n",
    "    job_location.append(location)\n",
    "    \n",
    "company_tags=driver.find_elements(By.XPATH,'//a[@class=\"subTitle ellipsis fleft\"]')\n",
    "for i in company_tags[0:10]:\n",
    "    company=i.text\n",
    "    company_name.append(company)\n",
    "    \n",
    "experience_tags=driver.find_elements(By.XPATH,'//li[@class=\"fleft grey-text br2 placeHolderLi experience\"]//span')\n",
    "for i in experience_tags[0:10]:\n",
    "    exp=i.text\n",
    "    experience_required.append(exp)"
   ]
  },
  {
   "cell_type": "code",
   "execution_count": 31,
   "id": "2f253d62",
   "metadata": {},
   "outputs": [
    {
     "name": "stdout",
     "output_type": "stream",
     "text": [
      "10 10 10 10\n"
     ]
    }
   ],
   "source": [
    "print(len(job_title),len(job_location),len(company_name),len(experience_required))"
   ]
  },
  {
   "cell_type": "code",
   "execution_count": 32,
   "id": "ee1db609",
   "metadata": {},
   "outputs": [
    {
     "data": {
      "text/html": [
       "<div>\n",
       "<style scoped>\n",
       "    .dataframe tbody tr th:only-of-type {\n",
       "        vertical-align: middle;\n",
       "    }\n",
       "\n",
       "    .dataframe tbody tr th {\n",
       "        vertical-align: top;\n",
       "    }\n",
       "\n",
       "    .dataframe thead th {\n",
       "        text-align: right;\n",
       "    }\n",
       "</style>\n",
       "<table border=\"1\" class=\"dataframe\">\n",
       "  <thead>\n",
       "    <tr style=\"text-align: right;\">\n",
       "      <th></th>\n",
       "      <th>Job_title</th>\n",
       "      <th>Job_location</th>\n",
       "      <th>Company_name</th>\n",
       "      <th>Exp_required</th>\n",
       "    </tr>\n",
       "  </thead>\n",
       "  <tbody>\n",
       "    <tr>\n",
       "      <th>0</th>\n",
       "      <td>Job||Job Opening For AI Technologist - Data Sc...</td>\n",
       "      <td>New Delhi, Hyderabad/Secunderabad, Pune, Chenn...</td>\n",
       "      <td>Wipro</td>\n",
       "      <td>5-10 Yrs</td>\n",
       "    </tr>\n",
       "    <tr>\n",
       "      <th>1</th>\n",
       "      <td>Data Scientist - Noida/Bangalore</td>\n",
       "      <td>Noida, Bangalore/Bengaluru</td>\n",
       "      <td>EXL</td>\n",
       "      <td>5-10 Yrs</td>\n",
       "    </tr>\n",
       "    <tr>\n",
       "      <th>2</th>\n",
       "      <td>DigitalBCG GAMMA Data Scientist</td>\n",
       "      <td>New Delhi, Bangalore/Bengaluru</td>\n",
       "      <td>Boston Consulting Group</td>\n",
       "      <td>2-5 Yrs</td>\n",
       "    </tr>\n",
       "    <tr>\n",
       "      <th>3</th>\n",
       "      <td>Data Scientist - Predictive Analytics</td>\n",
       "      <td>Noida, Mumbai, Chandigarh, Hyderabad/Secundera...</td>\n",
       "      <td>Confidential</td>\n",
       "      <td>1-6 Yrs</td>\n",
       "    </tr>\n",
       "    <tr>\n",
       "      <th>4</th>\n",
       "      <td>Data Scientist</td>\n",
       "      <td>Gurgaon/Gurugram</td>\n",
       "      <td>Optum</td>\n",
       "      <td>2-7 Yrs</td>\n",
       "    </tr>\n",
       "    <tr>\n",
       "      <th>5</th>\n",
       "      <td>Chat-bot Developer / Data Scientist</td>\n",
       "      <td>Mumbai, New Delhi, Bangalore/Bengaluru\\n(WFH d...</td>\n",
       "      <td>Big Seo Buzz</td>\n",
       "      <td>2-7 Yrs</td>\n",
       "    </tr>\n",
       "    <tr>\n",
       "      <th>6</th>\n",
       "      <td>Data Scientist</td>\n",
       "      <td>Gurgaon/Gurugram</td>\n",
       "      <td>Feedback Infra</td>\n",
       "      <td>2-4 Yrs</td>\n",
       "    </tr>\n",
       "    <tr>\n",
       "      <th>7</th>\n",
       "      <td>Data Scientist / Chat-bot Developer</td>\n",
       "      <td>New Delhi, Bangalore/Bengaluru, Mumbai (All Ar...</td>\n",
       "      <td>Big Seo Buzz</td>\n",
       "      <td>3-7 Yrs</td>\n",
       "    </tr>\n",
       "    <tr>\n",
       "      <th>8</th>\n",
       "      <td>Data Scientist - Engine Algorithm</td>\n",
       "      <td>Delhi / NCR, Kolkata, Mumbai, Hyderabad/Secund...</td>\n",
       "      <td>Primo Hiring</td>\n",
       "      <td>1-3 Yrs</td>\n",
       "    </tr>\n",
       "    <tr>\n",
       "      <th>9</th>\n",
       "      <td>Data Scientist For Healthcare Product team</td>\n",
       "      <td>Delhi / NCR, Chennai, Bangalore/Bengaluru</td>\n",
       "      <td>SECUREKLOUD TECHNOLOGIES</td>\n",
       "      <td>2-7 Yrs</td>\n",
       "    </tr>\n",
       "  </tbody>\n",
       "</table>\n",
       "</div>"
      ],
      "text/plain": [
       "                                           Job_title  \\\n",
       "0  Job||Job Opening For AI Technologist - Data Sc...   \n",
       "1                   Data Scientist - Noida/Bangalore   \n",
       "2                    DigitalBCG GAMMA Data Scientist   \n",
       "3              Data Scientist - Predictive Analytics   \n",
       "4                                     Data Scientist   \n",
       "5                Chat-bot Developer / Data Scientist   \n",
       "6                                     Data Scientist   \n",
       "7                Data Scientist / Chat-bot Developer   \n",
       "8                  Data Scientist - Engine Algorithm   \n",
       "9         Data Scientist For Healthcare Product team   \n",
       "\n",
       "                                        Job_location  \\\n",
       "0  New Delhi, Hyderabad/Secunderabad, Pune, Chenn...   \n",
       "1                         Noida, Bangalore/Bengaluru   \n",
       "2                     New Delhi, Bangalore/Bengaluru   \n",
       "3  Noida, Mumbai, Chandigarh, Hyderabad/Secundera...   \n",
       "4                                   Gurgaon/Gurugram   \n",
       "5  Mumbai, New Delhi, Bangalore/Bengaluru\\n(WFH d...   \n",
       "6                                   Gurgaon/Gurugram   \n",
       "7  New Delhi, Bangalore/Bengaluru, Mumbai (All Ar...   \n",
       "8  Delhi / NCR, Kolkata, Mumbai, Hyderabad/Secund...   \n",
       "9          Delhi / NCR, Chennai, Bangalore/Bengaluru   \n",
       "\n",
       "               Company_name Exp_required  \n",
       "0                     Wipro     5-10 Yrs  \n",
       "1                       EXL     5-10 Yrs  \n",
       "2   Boston Consulting Group      2-5 Yrs  \n",
       "3              Confidential      1-6 Yrs  \n",
       "4                     Optum      2-7 Yrs  \n",
       "5              Big Seo Buzz      2-7 Yrs  \n",
       "6            Feedback Infra      2-4 Yrs  \n",
       "7              Big Seo Buzz      3-7 Yrs  \n",
       "8              Primo Hiring      1-3 Yrs  \n",
       "9  SECUREKLOUD TECHNOLOGIES      2-7 Yrs  "
      ]
     },
     "execution_count": 32,
     "metadata": {},
     "output_type": "execute_result"
    }
   ],
   "source": [
    "df=pd.DataFrame({'Job_title':job_title,'Job_location':job_location,'Company_name':company_name,'Exp_required':experience_required})\n",
    "df"
   ]
  },
  {
   "cell_type": "markdown",
   "id": "04ce525a",
   "metadata": {},
   "source": [
    "# Answer-4"
   ]
  },
  {
   "cell_type": "code",
   "execution_count": 33,
   "id": "181ccbc3",
   "metadata": {},
   "outputs": [],
   "source": [
    "driver.get(\"https://www.flipkart.com/\")"
   ]
  },
  {
   "cell_type": "code",
   "execution_count": 35,
   "id": "35121941",
   "metadata": {},
   "outputs": [],
   "source": [
    "band=driver.find_element(By.CLASS_NAME,\"_3704LK\")\n",
    "band.send_keys('sunglasses')"
   ]
  },
  {
   "cell_type": "code",
   "execution_count": 82,
   "id": "be6694d9",
   "metadata": {},
   "outputs": [],
   "source": [
    "product_bands=[]"
   ]
  },
  {
   "cell_type": "code",
   "execution_count": 83,
   "id": "3a28cf6b",
   "metadata": {},
   "outputs": [],
   "source": [
    "start=0\n",
    "end=3\n",
    "for page in range(start,end):\n",
    "    bands=driver.find_elements(By.XPATH,'//div[@class=\"_2WkVRV\"]')\n",
    "    for i in bands:\n",
    "        product_bands.append(i.text)\n",
    "    next_button=driver.find_element(By.XPATH,'//a[@class=\"_1LKTO3\"]')\n",
    "    next_button.click()\n",
    "    time.sleep(2)"
   ]
  },
  {
   "cell_type": "code",
   "execution_count": 84,
   "id": "22dee283",
   "metadata": {},
   "outputs": [
    {
     "data": {
      "text/plain": [
       "120"
      ]
     },
     "execution_count": 84,
     "metadata": {},
     "output_type": "execute_result"
    }
   ],
   "source": [
    "len(product_bands)"
   ]
  },
  {
   "cell_type": "code",
   "execution_count": 87,
   "id": "338a49d3",
   "metadata": {},
   "outputs": [
    {
     "data": {
      "text/plain": [
       "['IZAAN MART',\n",
       " 'Rich Club',\n",
       " 'Lee Topper',\n",
       " 'VINCENT CHASE',\n",
       " 'Fastrack',\n",
       " 'Fastrack',\n",
       " 'ROYAL SON',\n",
       " 'VINCENT CHASE',\n",
       " 'Fastrack',\n",
       " 'Sewell',\n",
       " 'VINCENT CHASE',\n",
       " 'VINCENT CHASE',\n",
       " 'ROYAL SON',\n",
       " 'ROYAL SON',\n",
       " 'kingsunglasses',\n",
       " 'VINCENT CHASE',\n",
       " 'GANSTA',\n",
       " 'PIRASO',\n",
       " 'New Specs',\n",
       " 'VINCENT CHASE',\n",
       " 'BIZOLO',\n",
       " 'kingsunglasses',\n",
       " 'New Specs',\n",
       " 'VINCENT CHASE',\n",
       " 'VINCENT CHASE',\n",
       " 'PIRASO',\n",
       " 'kingsunglasses',\n",
       " 'VINCENT CHASE',\n",
       " 'ROZZETTA CRAFT',\n",
       " 'Fastrack',\n",
       " 'SUNBEE',\n",
       " 'VINCENT CHASE',\n",
       " 'kingsunglasses',\n",
       " 'ROYAL SON',\n",
       " 'Rich Club',\n",
       " 'ROZZETTA CRAFT',\n",
       " 'Elligator',\n",
       " 'ROYAL SON',\n",
       " 'ROZZETTA CRAFT',\n",
       " 'VINCENT CHASE',\n",
       " 'VINCENT CHASE',\n",
       " 'john jacobs',\n",
       " 'Fastrack',\n",
       " 'PIRASO',\n",
       " 'PIRASO',\n",
       " 'SRPM',\n",
       " 'Fastrack',\n",
       " 'VINCENT CHASE',\n",
       " 'Elligator',\n",
       " 'New Specs',\n",
       " 'New Specs',\n",
       " 'VINCENT CHASE',\n",
       " 'SUNBEE',\n",
       " 'PHENOMENAL',\n",
       " 'SHAAH COLLECTIONS',\n",
       " 'VINCENT CHASE',\n",
       " 'NuVew',\n",
       " 'LIZA ANGEL',\n",
       " 'PIRASO',\n",
       " 'VINCENT CHASE',\n",
       " 'Dannilo',\n",
       " 'kingsunglasses',\n",
       " 'Lee Topper',\n",
       " 'VINCENT CHASE',\n",
       " 'Mi',\n",
       " 'PHENOMENAL',\n",
       " 'PIRASO',\n",
       " 'VINCENT CHASE',\n",
       " 'SUNBEE',\n",
       " 'EYELLUSION',\n",
       " 'VINCENT CHASE',\n",
       " 'VINCENT CHASE',\n",
       " 'Fastrack',\n",
       " 'ROYAL SON',\n",
       " 'Rich Club',\n",
       " 'VINCENT CHASE',\n",
       " 'Fastrack',\n",
       " 'Silver Kartz',\n",
       " 'kingsunglasses',\n",
       " 'VINCENT CHASE',\n",
       " 'IZAAN MART',\n",
       " 'Rich Club',\n",
       " 'Lee Topper',\n",
       " 'VINCENT CHASE',\n",
       " 'Fastrack',\n",
       " 'Fastrack',\n",
       " 'ROYAL SON',\n",
       " 'john jacobs',\n",
       " 'Fastrack',\n",
       " 'Sewell',\n",
       " 'VINCENT CHASE',\n",
       " 'VINCENT CHASE',\n",
       " 'ROYAL SON',\n",
       " 'ROYAL SON',\n",
       " 'kingsunglasses',\n",
       " 'john jacobs',\n",
       " 'GANSTA',\n",
       " 'PIRASO',\n",
       " 'New Specs',\n",
       " 'Rich Club']"
      ]
     },
     "execution_count": 87,
     "metadata": {},
     "output_type": "execute_result"
    }
   ],
   "source": [
    "product_bands[0:100]"
   ]
  },
  {
   "cell_type": "code",
   "execution_count": 88,
   "id": "f9c21726",
   "metadata": {},
   "outputs": [],
   "source": [
    "product_descriptions=[]"
   ]
  },
  {
   "cell_type": "code",
   "execution_count": 89,
   "id": "146ce2fa",
   "metadata": {},
   "outputs": [],
   "source": [
    "start=0\n",
    "end=3\n",
    "for page in range(start,end):\n",
    "    descriptions=driver.find_elements(By.XPATH,'//a[@class=\"IRpwTa\"]')\n",
    "    for i in descriptions:\n",
    "        product_descriptions.append(i.text)\n",
    "    next_button=driver.find_element(By.XPATH,'//a[@class=\"_1LKTO3\"]')\n",
    "    next_button.click()\n",
    "    time.sleep(2)"
   ]
  },
  {
   "cell_type": "code",
   "execution_count": 90,
   "id": "28a8170f",
   "metadata": {},
   "outputs": [
    {
     "data": {
      "text/plain": [
       "120"
      ]
     },
     "execution_count": 90,
     "metadata": {},
     "output_type": "execute_result"
    }
   ],
   "source": [
    "len(product_descriptions)"
   ]
  },
  {
   "cell_type": "code",
   "execution_count": 92,
   "id": "10730d5f",
   "metadata": {},
   "outputs": [
    {
     "data": {
      "text/plain": [
       "['UV Protection Retro Square Sunglasses (55)',\n",
       " 'UV Protection, Gradient Oval Sunglasses (58)',\n",
       " 'UV Protection Aviator Sunglasses (54)',\n",
       " 'UV Protection Cat-eye Sunglasses (Free Size)',\n",
       " 'Polarized, UV Protection Round Sunglasses (50)',\n",
       " 'by Lenskart UV Protection Clubmaster Sunglasses (55)',\n",
       " 'UV Protection, Gradient Retro Square Sunglasses (58)',\n",
       " 'by Lenskart Polarized, UV Protection Aviator Sunglasses...',\n",
       " 'UV Protection Sports Sunglasses (62)',\n",
       " 'UV Protection Wayfarer Sunglasses (58)',\n",
       " 'Gradient, UV Protection Aviator Sunglasses (62)',\n",
       " 'UV Protection Aviator Sunglasses (55)',\n",
       " 'Polarized, UV Protection Round Sunglasses (50)',\n",
       " 'Night Vision, Riding Glasses Rectangular Sunglasses (60...',\n",
       " 'Toughened Glass Lens, UV Protection Aviator Sunglasses ...',\n",
       " 'UV Protection Wayfarer Sunglasses (55)',\n",
       " 'Polarized, UV Protection Round Sunglasses (50)',\n",
       " 'Polarized, UV Protection Sports Sunglasses (68)',\n",
       " 'by Lenskart Polarized, UV Protection Wayfarer Sunglasse...',\n",
       " 'UV Protection Butterfly, Over-sized Sunglasses (62)',\n",
       " 'Others Wayfarer, Retro Square Sunglasses (50)',\n",
       " 'UV Protection Wayfarer Sunglasses (Free Size)',\n",
       " 'Gradient Round Sunglasses (Free Size)',\n",
       " 'Others Retro Square Sunglasses (55)',\n",
       " 'Mirrored, Night Vision Oval Sunglasses (Free Size)',\n",
       " 'UV Protection Round Sunglasses (61)',\n",
       " 'UV Protection Butterfly Sunglasses (Free Size)',\n",
       " 'UV Protection Retro Square Sunglasses (54)',\n",
       " 'Night Vision, UV Protection Spectacle Sunglasses (50)',\n",
       " 'UV Protection Wrap-around Sunglasses (Free Size)',\n",
       " 'UV Protection, Polarized, Mirrored Round Sunglasses (Fr...',\n",
       " 'Polarized Wayfarer Sunglasses (52)',\n",
       " 'UV Protection Butterfly Sunglasses (60)',\n",
       " 'Gradient, UV Protection Wayfarer Sunglasses (Free Size)',\n",
       " 'Gradient, UV Protection Round Sunglasses (Free Size)',\n",
       " 'Gradient, UV Protection Aviator Sunglasses (57)',\n",
       " 'UV Protection Oval Sunglasses (Free Size)',\n",
       " 'Polarized, UV Protection Wayfarer Sunglasses (61)',\n",
       " 'Riding Glasses, Night Vision Retro Square, Spectacle S...',\n",
       " 'UV Protection, Gradient Butterfly Sunglasses (52)',\n",
       " 'UV Protection Wayfarer Sunglasses (Free Size)',\n",
       " 'UV Protection Wayfarer Sunglasses (Free Size)',\n",
       " 'UV Protection, Gradient Rectangular Sunglasses (Free Si...',\n",
       " 'by Lenskart Polarized, UV Protection Cat-eye Sunglasses...',\n",
       " 'UV Protection Wrap-around Sunglasses (63)',\n",
       " 'UV Protection, Riding Glasses, Mirrored Wayfarer Sungla...',\n",
       " 'Mirrored Aviator Sunglasses (58)',\n",
       " 'Polarized, UV Protection Round Sunglasses (51)',\n",
       " 'Mirrored, Night Vision, UV Protection, Riding Glasses S...',\n",
       " 'by Lenskart Polarized, UV Protection Wayfarer Sunglasse...',\n",
       " 'Gradient, UV Protection Aviator Sunglasses (57)',\n",
       " 'UV Protection Retro Square Sunglasses (52)',\n",
       " 'UV Protection Over-sized Sunglasses (65)',\n",
       " 'Polarized, UV Protection Rectangular Sunglasses (59)',\n",
       " 'Mirrored Aviator Sunglasses (Free Size)',\n",
       " 'Polarized Round Sunglasses (48)',\n",
       " 'Mirrored, UV Protection Wayfarer Sunglasses (Free Size)',\n",
       " 'UV Protection Rectangular Sunglasses (Free Size)',\n",
       " 'UV Protection, Polarized, Mirrored Wayfarer Sunglasses ...',\n",
       " 'by Lenskart Polarized, UV Protection Aviator Sunglasses...',\n",
       " 'UV Protection Round Sunglasses (Free Size)',\n",
       " 'UV Protection, Riding Glasses, Mirrored Butterfly, Spec...',\n",
       " 'UV Protection, Gradient Round Sunglasses (Free Size)',\n",
       " 'Polarized, UV Protection Round Sunglasses (50)',\n",
       " 'UV Protection Aviator Sunglasses (55)',\n",
       " 'UV Protection Round Sunglasses (54)',\n",
       " 'UV Protection Aviator Sunglasses (Free Size)',\n",
       " 'UV Protection Round Sunglasses (54)',\n",
       " 'Polarized Rectangular Sunglasses (60)',\n",
       " 'UV Protection Round Sunglasses (Free Size)',\n",
       " 'Gradient, UV Protection Wayfarer Sunglasses (Free Size)',\n",
       " 'by Lenskart UV Protection Aviator Sunglasses (58)',\n",
       " 'UV Protection, Gradient Rectangular Sunglasses (Free Si...',\n",
       " 'by Lenskart Polarized, UV Protection Wayfarer Sunglasse...',\n",
       " 'UV Protection Round Sunglasses (50)',\n",
       " 'UV Protection Aviator Sunglasses (55)',\n",
       " 'UV Protection Round Sunglasses (53)',\n",
       " 'Mirrored Aviator Sunglasses (55)',\n",
       " 'UV Protection Oval Sunglasses (Free Size)',\n",
       " 'by Lenskart UV Protection, Polarized Aviator Sunglasses...',\n",
       " 'by Lenskart Polarized, UV Protection Wayfarer Sunglasse...',\n",
       " 'by Lenskart Polarized, UV Protection Cat-eye Sunglasses...',\n",
       " 'UV Protection Wayfarer Sunglasses (Free Size)',\n",
       " 'UV Protection Rectangular Sunglasses (Free Size)',\n",
       " 'UV Protection Aviator Sunglasses (54)',\n",
       " 'UV Protection Rectangular Sunglasses (52)',\n",
       " 'UV Protection Wayfarer Sunglasses (50)',\n",
       " 'by Lenskart UV Protection Aviator Sunglasses (53)',\n",
       " 'UV Protection Aviator Sunglasses (Free Size)',\n",
       " 'UV Protection Round Sunglasses (54)',\n",
       " 'UV Protection Rectangular Sunglasses (Free Size)',\n",
       " 'by Lenskart Polarized, UV Protection Aviator Sunglasses...',\n",
       " 'UV Protection Oval Sunglasses (Free Size)',\n",
       " 'UV Protection, Polarized Wayfarer Sunglasses (Free Size...',\n",
       " 'UV Protection Retro Square Sunglasses (53)',\n",
       " 'by Lenskart Polarized, UV Protection Aviator Sunglasses...',\n",
       " 'UV Protection, Polarized, Mirrored Rectangular Sunglass...',\n",
       " 'Polarized, Riding Glasses Sports, Wrap-around Sunglasse...',\n",
       " 'UV Protection Aviator Sunglasses (57)',\n",
       " 'UV Protection Round Sunglasses (53)']"
      ]
     },
     "execution_count": 92,
     "metadata": {},
     "output_type": "execute_result"
    }
   ],
   "source": [
    "product_descriptions[0:100]"
   ]
  },
  {
   "cell_type": "code",
   "execution_count": 152,
   "id": "75a8abf7",
   "metadata": {},
   "outputs": [],
   "source": [
    "product_prices=[]"
   ]
  },
  {
   "cell_type": "code",
   "execution_count": 153,
   "id": "785ac0b2",
   "metadata": {},
   "outputs": [],
   "source": [
    "start=0\n",
    "end=3\n",
    "for page in range(start,end):\n",
    "    prices=driver.find_elements(By.XPATH,'//div[@class=\"_30jeq3\"]')\n",
    "    for i in prices:\n",
    "        product_prices.append(i.text)\n",
    "    next_button=driver.find_element(By.XPATH,'//a[@class=\"_1LKTO3\"]')\n",
    "    next_button.click()\n",
    "    time.sleep(2)\n",
    "    \n"
   ]
  },
  {
   "cell_type": "code",
   "execution_count": 154,
   "id": "e0b3f90d",
   "metadata": {},
   "outputs": [
    {
     "data": {
      "text/plain": [
       "120"
      ]
     },
     "execution_count": 154,
     "metadata": {},
     "output_type": "execute_result"
    }
   ],
   "source": [
    "len(product_prices)"
   ]
  },
  {
   "cell_type": "code",
   "execution_count": 155,
   "id": "dff64003",
   "metadata": {},
   "outputs": [
    {
     "data": {
      "text/plain": [
       "['₹799',\n",
       " '₹687',\n",
       " '₹374',\n",
       " '₹1,542',\n",
       " '₹544',\n",
       " '₹228',\n",
       " '₹399',\n",
       " '₹993',\n",
       " '₹499',\n",
       " '₹397',\n",
       " '₹1,747',\n",
       " '₹687',\n",
       " '₹374',\n",
       " '₹2,718',\n",
       " '₹199',\n",
       " '₹599',\n",
       " '₹373',\n",
       " '₹509',\n",
       " '₹449',\n",
       " '₹599',\n",
       " '₹466',\n",
       " '₹259',\n",
       " '₹404',\n",
       " '₹439',\n",
       " '₹297',\n",
       " '₹354',\n",
       " '₹449',\n",
       " '₹399',\n",
       " '₹1,619',\n",
       " '₹499',\n",
       " '₹389',\n",
       " '₹709',\n",
       " '₹197',\n",
       " '₹468',\n",
       " '₹2,115',\n",
       " '₹239',\n",
       " '₹458',\n",
       " '₹479',\n",
       " '₹459',\n",
       " '₹3,054',\n",
       " '₹499',\n",
       " '₹398',\n",
       " '₹1,399',\n",
       " '₹625',\n",
       " '₹2,449',\n",
       " '₹410',\n",
       " '₹519',\n",
       " '₹801',\n",
       " '₹424',\n",
       " '₹299',\n",
       " '₹449',\n",
       " '₹799',\n",
       " '₹399',\n",
       " '₹499',\n",
       " '₹2,289',\n",
       " '₹659',\n",
       " '₹479',\n",
       " '₹959',\n",
       " '₹299',\n",
       " '₹687',\n",
       " '₹1,759',\n",
       " '₹272',\n",
       " '₹265',\n",
       " '₹699',\n",
       " '₹2,134',\n",
       " '₹598',\n",
       " '₹499',\n",
       " '₹2,400',\n",
       " '₹399',\n",
       " '₹499',\n",
       " '₹365',\n",
       " '₹319',\n",
       " '₹666',\n",
       " '₹319',\n",
       " '₹299',\n",
       " '₹1,715',\n",
       " '₹449',\n",
       " '₹499',\n",
       " '₹249',\n",
       " '₹492',\n",
       " '₹499',\n",
       " '₹799',\n",
       " '₹374',\n",
       " '₹1,542',\n",
       " '₹544',\n",
       " '₹228',\n",
       " '₹399',\n",
       " '₹687',\n",
       " '₹499',\n",
       " '₹397',\n",
       " '₹1,747',\n",
       " '₹993',\n",
       " '₹374',\n",
       " '₹2,718',\n",
       " '₹199',\n",
       " '₹687',\n",
       " '₹373',\n",
       " '₹509',\n",
       " '₹449',\n",
       " '₹599']"
      ]
     },
     "execution_count": 155,
     "metadata": {},
     "output_type": "execute_result"
    }
   ],
   "source": [
    "product_prices[0:100]"
   ]
  },
  {
   "cell_type": "markdown",
   "id": "330ad7d2",
   "metadata": {},
   "source": [
    "# Answer-6"
   ]
  },
  {
   "cell_type": "code",
   "execution_count": 131,
   "id": "4e1d2fde",
   "metadata": {},
   "outputs": [],
   "source": [
    "driver.get(\"https://www.flipkart.com/\")"
   ]
  },
  {
   "cell_type": "code",
   "execution_count": 137,
   "id": "fc7710f5",
   "metadata": {},
   "outputs": [],
   "source": [
    "band=driver.find_element(By.CLASS_NAME,\"_3704LK\")\n",
    "band.send_keys('sneakers')"
   ]
  },
  {
   "cell_type": "code",
   "execution_count": 141,
   "id": "e5dc1826",
   "metadata": {},
   "outputs": [],
   "source": [
    "search=driver.find_element(By.CLASS_NAME,\"_34RNph\")\n",
    "search.click()"
   ]
  },
  {
   "cell_type": "code",
   "execution_count": 142,
   "id": "e55bf733",
   "metadata": {},
   "outputs": [],
   "source": [
    "product_brands=[]"
   ]
  },
  {
   "cell_type": "code",
   "execution_count": 143,
   "id": "1a7d6629",
   "metadata": {},
   "outputs": [],
   "source": [
    "start=0\n",
    "end=3\n",
    "for page in range(start,end):\n",
    "    brands=driver.find_elements(By.XPATH,'//div[@class=\"_2WkVRV\"]')\n",
    "    for i in brands:\n",
    "        product_brands.append(i.text)\n",
    "    next_button=driver.find_element(By.XPATH,'//a[@class=\"_1LKTO3\"]')\n",
    "    next_button.click()\n",
    "    time.sleep(2)"
   ]
  },
  {
   "cell_type": "code",
   "execution_count": 144,
   "id": "12ada33d",
   "metadata": {},
   "outputs": [
    {
     "data": {
      "text/plain": [
       "120"
      ]
     },
     "execution_count": 144,
     "metadata": {},
     "output_type": "execute_result"
    }
   ],
   "source": [
    "len(product_brands)"
   ]
  },
  {
   "cell_type": "code",
   "execution_count": 145,
   "id": "d14efc3b",
   "metadata": {},
   "outputs": [
    {
     "data": {
      "text/plain": [
       "['Deals4you',\n",
       " 'OZJI',\n",
       " 'aadi',\n",
       " 'PUMA',\n",
       " 'Chevit',\n",
       " 'Layasa',\n",
       " 'Layasa',\n",
       " 'Bonexy',\n",
       " 'Labbin',\n",
       " 'KWIK FIT',\n",
       " 'PUMA',\n",
       " 'FAUSTO',\n",
       " 'Magnolia',\n",
       " 'PUMA',\n",
       " 'Layasa',\n",
       " 'FAUSTO',\n",
       " 'Deals4you',\n",
       " 'Robbie jones',\n",
       " 'Numenzo',\n",
       " 'LANCER',\n",
       " 'AMICO',\n",
       " 'Kzaara',\n",
       " 'SCATCHITE',\n",
       " 'FAUSTO',\n",
       " 'Layasa',\n",
       " 'Shoes Bank',\n",
       " 'Magnolia',\n",
       " 'Rontex',\n",
       " 'Kraasa',\n",
       " 'Layasa',\n",
       " 'RED TAPE',\n",
       " 'Rontex',\n",
       " 'ASTEROID',\n",
       " 'Deals4you',\n",
       " 'Sparx',\n",
       " 'URBANBOX',\n",
       " 'Deals4you',\n",
       " 'PUMA',\n",
       " 'Chevit',\n",
       " 'Rzisbo',\n",
       " 'Deals4you',\n",
       " 'Chevit',\n",
       " 'PUMA',\n",
       " 'Magnolia',\n",
       " 'Layasa',\n",
       " 'DUCATI',\n",
       " 'PUMA',\n",
       " 'LuvShus',\n",
       " 'CLYMB',\n",
       " 'Xtoon',\n",
       " 'BRUTON',\n",
       " 'Chevit',\n",
       " 'BRUTON',\n",
       " 'ASTEROID',\n",
       " 'PUMA',\n",
       " 'WHITE WALKERS',\n",
       " 'Roadster',\n",
       " 'BIRDE',\n",
       " \"LEVI'S\",\n",
       " 'HOTSTYLE',\n",
       " 'HOTSTYLE',\n",
       " 'PUMA',\n",
       " 'TWIN TOES',\n",
       " 'Kraasa',\n",
       " 'PUMA',\n",
       " 'aadi',\n",
       " 'Kraasa',\n",
       " 'kardam&sons',\n",
       " 'Kraasa',\n",
       " 'BRUTON',\n",
       " 'BRUTON',\n",
       " 'ONECENTRE',\n",
       " 'PUMA',\n",
       " 'Noztile',\n",
       " 'Chevit',\n",
       " 'World Wear Footwear',\n",
       " 'BRUTON',\n",
       " 'Xtoon',\n",
       " 'Qitty',\n",
       " 'Airland',\n",
       " 'Deals4you',\n",
       " 'OZJI',\n",
       " 'aadi',\n",
       " 'PUMA',\n",
       " 'Chevit',\n",
       " 'Layasa',\n",
       " 'Layasa',\n",
       " 'Bonexy',\n",
       " 'Labbin',\n",
       " 'KWIK FIT',\n",
       " 'PUMA',\n",
       " 'FAUSTO',\n",
       " 'Magnolia',\n",
       " 'PUMA',\n",
       " 'Layasa',\n",
       " 'FAUSTO',\n",
       " 'Deals4you',\n",
       " 'Robbie jones',\n",
       " 'Numenzo',\n",
       " 'LANCER']"
      ]
     },
     "execution_count": 145,
     "metadata": {},
     "output_type": "execute_result"
    }
   ],
   "source": [
    "product_brands[0:100]"
   ]
  },
  {
   "cell_type": "code",
   "execution_count": 148,
   "id": "47c63b01",
   "metadata": {},
   "outputs": [],
   "source": [
    "product_descriptions=[]"
   ]
  },
  {
   "cell_type": "code",
   "execution_count": 149,
   "id": "84405b17",
   "metadata": {},
   "outputs": [],
   "source": [
    "start=0\n",
    "end=3\n",
    "for page in range(start,end):\n",
    "    descriptions=driver.find_elements(By.XPATH,'//a[@class=\"IRpwTa\"]')\n",
    "    for i in descriptions:\n",
    "        product_descriptions.append(i.text)\n",
    "    next_button=driver.find_element(By.XPATH,'//a[@class=\"_1LKTO3\"]')\n",
    "    next_button.click()\n",
    "    time.sleep(2)"
   ]
  },
  {
   "cell_type": "code",
   "execution_count": 150,
   "id": "9c2b475e",
   "metadata": {},
   "outputs": [
    {
     "data": {
      "text/plain": [
       "109"
      ]
     },
     "execution_count": 150,
     "metadata": {},
     "output_type": "execute_result"
    }
   ],
   "source": [
    "len(product_descriptions)"
   ]
  },
  {
   "cell_type": "code",
   "execution_count": 151,
   "id": "b85f1b80",
   "metadata": {},
   "outputs": [
    {
     "data": {
      "text/plain": [
       "['Sneakers For Women',\n",
       " 'Unique & Perfect Collection Combo Pack of 02 Shoes for ...',\n",
       " 'Rebound JOY Sneakers For Men',\n",
       " 'Sneakers For Men',\n",
       " 'Sneakers For Women',\n",
       " 'Sneakers For Men',\n",
       " 'Combo Pack of 4 Casual & Sports Shoes (Loafers Shoes) S...',\n",
       " 'Caracal Sneakers For Men',\n",
       " 'Men Casual Shoe New Trend With Fashion Panda Desgined L...',\n",
       " 'Sneakers For Men',\n",
       " 'Combo Pack of 3 Casual & Sports Shoes (Sneakers & Runni...',\n",
       " 'Modern Trendy Sneakers boot Sneakers For Men',\n",
       " 'Lattest Sneakers Shoe Sneakers For Men',\n",
       " 'Sneakers For Women',\n",
       " 'Exclusive Sneaker Shoes Sneakers For Men',\n",
       " 'Original Luxury Branded Black Fancy Casual Walking Part...',\n",
       " 'Cilia Mode Sneakers For Women',\n",
       " 'Canvas Sneakers For Men',\n",
       " 'Stylish & Trending Outdoor Walking Comfortable Sneakers...',\n",
       " 'Sneakers For Men',\n",
       " 'Sports Running Shoes Sneakers For Men',\n",
       " \"Levi's Men's Lancer Sneakers Sneakers For Men\",\n",
       " 'Sneakers For Men',\n",
       " 'Sneakers Sneakers For Men',\n",
       " 'Puma Smash v2 L Sneakers For Men',\n",
       " 'Stylish Sneakers For Women',\n",
       " 'Series 7 Sneakers For Men',\n",
       " 'Cilia Sneakers For Women',\n",
       " 'Sneakers For Men',\n",
       " 'Shark-41 Sneakers For Men',\n",
       " 'casual sneaker shoes for men luxury fashion casual snea...',\n",
       " 'Sneakers For Women',\n",
       " 'Modern Trendy Sneakers Shoes Sneakers For Men',\n",
       " 'Modern Trendy Sneakers Shoes Sneakers For Men',\n",
       " 'STR2 Sneakers For Men',\n",
       " 'Smash Wns v2 L Sneakers For Women',\n",
       " 'Sneakers For Men',\n",
       " 'Trendy Sneakers For Men',\n",
       " 'Mesh | Ultralightweight | Comfortable | Breathable Walk...',\n",
       " 'Smash Wns v2 Z Sneakers For Women',\n",
       " 'Super Stylish & Trendy Combo Pack of 02 Pairs Sneakers ...',\n",
       " 'supr Sneakers For Men',\n",
       " 'Sneakers For Men',\n",
       " 'Sneakers For Men',\n",
       " 'Kwik FIT casual sneaker shoes and partywear shoes Casua...',\n",
       " 'Glory Sneakers For Men',\n",
       " 'Trendy Sneakers For Men',\n",
       " 'Sneakers For Men',\n",
       " 'Caracal Sneakers For Men',\n",
       " 'supr Sneakers For Men',\n",
       " 'Sneakers For Women',\n",
       " 'Casual Sneakers Black Outdoor Shoes For Boys And Men Sn...',\n",
       " '411 Casual Sneakers For Men',\n",
       " 'Sneakers For Men',\n",
       " 'Sneakers For Men',\n",
       " 'Sneakers Sneakers For Men',\n",
       " 'Sneakers For Men',\n",
       " \"White Sneaker For Men's/Boy's Sneakers For Men\",\n",
       " 'Sneakers For Men',\n",
       " 'Casuals, Canvas, Partywear Sneakers For Men',\n",
       " 'Sneakers For Men',\n",
       " 'Sneakers For Men',\n",
       " \"Original Luxury Branded Fashionable Men's Casual Walkin...\",\n",
       " 'Sneakers For Men',\n",
       " 'Men White Sneakers Sneakers For Men',\n",
       " 'Sneakers For Men',\n",
       " 'Puma Smash v2 Sneakers For Men',\n",
       " 'Sneakers For Men',\n",
       " 'Sneakers For Men',\n",
       " 'Sneakers For Women',\n",
       " 'Unique & Perfect Collection Combo Pack of 02 Shoes for ...',\n",
       " 'Rebound JOY Sneakers For Men',\n",
       " 'Sneakers For Men',\n",
       " 'Sneakers For Women',\n",
       " 'Sneakers For Men',\n",
       " 'Caracal Sneakers For Men',\n",
       " 'Men Casual Shoe New Trend With Fashion Panda Desgined L...',\n",
       " 'Sneakers For Men',\n",
       " 'Combo Pack of 4 Casual & Sports Shoes (Loafers Shoes) S...',\n",
       " 'Modern Trendy Sneakers boot Sneakers For Men',\n",
       " 'Lattest Sneakers Shoe Sneakers For Men',\n",
       " 'Sneakers For Men',\n",
       " 'Exclusive Sneaker Shoes Sneakers For Men',\n",
       " 'Original Luxury Branded Black Fancy Casual Walking Part...',\n",
       " 'Cilia Mode Sneakers For Women',\n",
       " 'Combo Pack of 3 Casual & Sports Shoes (Sneakers & Runni...',\n",
       " 'Stylish & Trending Outdoor Walking Comfortable Sneakers...',\n",
       " 'Sneakers For Men',\n",
       " 'Sports Running Shoes Sneakers For Men',\n",
       " 'Sneakers For Women',\n",
       " \"Levi's Men's Lancer Sneakers Sneakers For Men\",\n",
       " 'Sneakers For Men',\n",
       " 'Sneakers Sneakers For Men',\n",
       " 'Canvas Sneakers For Men',\n",
       " 'Puma Smash v2 L Sneakers For Men',\n",
       " 'Stylish Sneakers For Women',\n",
       " 'Series 7 Sneakers For Men',\n",
       " 'Cilia Sneakers For Women',\n",
       " 'Sneakers For Men',\n",
       " 'Shark-41 Sneakers For Men']"
      ]
     },
     "execution_count": 151,
     "metadata": {},
     "output_type": "execute_result"
    }
   ],
   "source": [
    "product_descriptions[0:100]"
   ]
  },
  {
   "cell_type": "code",
   "execution_count": 156,
   "id": "95316765",
   "metadata": {},
   "outputs": [],
   "source": [
    "product_prices=[]"
   ]
  },
  {
   "cell_type": "code",
   "execution_count": 157,
   "id": "80ef8d71",
   "metadata": {},
   "outputs": [],
   "source": [
    "start=0\n",
    "end=3\n",
    "for page in range(start,end):\n",
    "    prices=driver.find_elements(By.XPATH,'//div[@class=\"_30jeq3\"]')\n",
    "    for i in prices:\n",
    "        product_prices.append(i.text)\n",
    "    next_button=driver.find_element(By.XPATH,'//a[@class=\"_1LKTO3\"]')\n",
    "    next_button.click()\n",
    "    time.sleep(2)\n",
    "    "
   ]
  },
  {
   "cell_type": "code",
   "execution_count": 158,
   "id": "6011962b",
   "metadata": {},
   "outputs": [
    {
     "data": {
      "text/plain": [
       "120"
      ]
     },
     "execution_count": 158,
     "metadata": {},
     "output_type": "execute_result"
    }
   ],
   "source": [
    "len(product_prices)"
   ]
  },
  {
   "cell_type": "code",
   "execution_count": 160,
   "id": "73bbc0e2",
   "metadata": {},
   "outputs": [
    {
     "data": {
      "text/plain": [
       "['₹499',\n",
       " '₹398',\n",
       " '₹625',\n",
       " '₹1,399',\n",
       " '₹2,449',\n",
       " '₹410',\n",
       " '₹801',\n",
       " '₹519',\n",
       " '₹424',\n",
       " '₹299',\n",
       " '₹799',\n",
       " '₹449',\n",
       " '₹399',\n",
       " '₹499',\n",
       " '₹659',\n",
       " '₹2,289',\n",
       " '₹479',\n",
       " '₹959',\n",
       " '₹687',\n",
       " '₹299',\n",
       " '₹1,759',\n",
       " '₹272',\n",
       " '₹699',\n",
       " '₹265',\n",
       " '₹2,134',\n",
       " '₹598',\n",
       " '₹499',\n",
       " '₹2,400',\n",
       " '₹399',\n",
       " '₹499',\n",
       " '₹365',\n",
       " '₹319',\n",
       " '₹666',\n",
       " '₹319',\n",
       " '₹299',\n",
       " '₹1,715',\n",
       " '₹449',\n",
       " '₹499',\n",
       " '₹249',\n",
       " '₹499',\n",
       " '₹799',\n",
       " '₹374',\n",
       " '₹1,542',\n",
       " '₹544',\n",
       " '₹228',\n",
       " '₹399',\n",
       " '₹687',\n",
       " '₹499',\n",
       " '₹397',\n",
       " '₹1,747',\n",
       " '₹993',\n",
       " '₹374',\n",
       " '₹2,718',\n",
       " '₹199',\n",
       " '₹687',\n",
       " '₹373',\n",
       " '₹509',\n",
       " '₹449',\n",
       " '₹599',\n",
       " '₹466',\n",
       " '₹259',\n",
       " '₹404',\n",
       " '₹599',\n",
       " '₹439',\n",
       " '₹297',\n",
       " '₹354',\n",
       " '₹449',\n",
       " '₹399',\n",
       " '₹1,619',\n",
       " '₹499',\n",
       " '₹389',\n",
       " '₹709',\n",
       " '₹197',\n",
       " '₹468',\n",
       " '₹2,115',\n",
       " '₹239',\n",
       " '₹458',\n",
       " '₹479',\n",
       " '₹459',\n",
       " '₹3,054',\n",
       " '₹499',\n",
       " '₹398',\n",
       " '₹625',\n",
       " '₹1,399',\n",
       " '₹2,449',\n",
       " '₹410',\n",
       " '₹801',\n",
       " '₹519',\n",
       " '₹424',\n",
       " '₹299',\n",
       " '₹799',\n",
       " '₹449',\n",
       " '₹399',\n",
       " '₹499',\n",
       " '₹659',\n",
       " '₹2,289',\n",
       " '₹479',\n",
       " '₹959',\n",
       " '₹687']"
      ]
     },
     "execution_count": 160,
     "metadata": {},
     "output_type": "execute_result"
    }
   ],
   "source": [
    "product_prices[0:100]"
   ]
  },
  {
   "cell_type": "markdown",
   "id": "a48e778f",
   "metadata": {},
   "source": [
    "# Answer-7"
   ]
  },
  {
   "cell_type": "code",
   "execution_count": 171,
   "id": "314b51f4",
   "metadata": {},
   "outputs": [],
   "source": [
    "driver=webdriver.Chrome(r\"chromedriver.exe\")"
   ]
  },
  {
   "cell_type": "code",
   "execution_count": 172,
   "id": "56cbca87",
   "metadata": {},
   "outputs": [],
   "source": [
    "driver.get(\"https://www.myntra.com/shoes\")"
   ]
  },
  {
   "cell_type": "code",
   "execution_count": 166,
   "id": "8c7dd5c4",
   "metadata": {},
   "outputs": [],
   "source": [
    "#NOT ABLE TO SCRAP DATA FROM MYNTRA SITE .CAN'T PROCEED FOR INSPECT OPTION."
   ]
  },
  {
   "cell_type": "markdown",
   "id": "a8a6044d",
   "metadata": {},
   "source": [
    "# Answer-8"
   ]
  },
  {
   "cell_type": "code",
   "execution_count": 273,
   "id": "1816703b",
   "metadata": {},
   "outputs": [],
   "source": [
    "driver=webdriver.Chrome(r\"chromedriver.exe\")"
   ]
  },
  {
   "cell_type": "code",
   "execution_count": 274,
   "id": "5d264e2c",
   "metadata": {},
   "outputs": [],
   "source": [
    "driver.get(\"https://www.amazon.in/\")"
   ]
  },
  {
   "cell_type": "code",
   "execution_count": 275,
   "id": "aa0286c1",
   "metadata": {},
   "outputs": [],
   "source": [
    "product_title=[] "
   ]
  },
  {
   "cell_type": "code",
   "execution_count": 276,
   "id": "a675dfe2",
   "metadata": {},
   "outputs": [],
   "source": [
    "title_tags=driver.find_elements(By.XPATH,'//h2[@class=\"a-size-mini a-spacing-none a-color-base s-line-clamp-2\"]')\n",
    "for i in title_tags[0:10]: \n",
    "     title=i.text\n",
    "     product_title.append(title)"
   ]
  },
  {
   "cell_type": "code",
   "execution_count": 277,
   "id": "391bba1e",
   "metadata": {},
   "outputs": [
    {
     "data": {
      "text/plain": [
       "10"
      ]
     },
     "execution_count": 277,
     "metadata": {},
     "output_type": "execute_result"
    }
   ],
   "source": [
    "len(product_title)"
   ]
  },
  {
   "cell_type": "code",
   "execution_count": 278,
   "id": "7e118283",
   "metadata": {},
   "outputs": [
    {
     "data": {
      "text/plain": [
       "['ASUS Vivobook 15, 15.6-inch (39.62 cms) FHD, Intel Core i7-1065G7 10th Gen, Thin and Light Laptop (16GB/512GB SSD/Iris Plus Graphics/Windows 11/Office 2021/Silver/1.8 kg), X515JA-EJ701WS',\n",
       " 'HP Pavilion Plus, 12th Gen Intel Core i7 16GB RAM/1TB SSD 14 inch(35.6 cm),OLED,400 nits,UWVA, Eye Safe Display/Intel Iris Xe Graphics/Backlit KB/B&O/FPR/Win 11/Alexa Built-in/MSO 2021, 14-eh0024TU',\n",
       " 'Lenovo Ideapad Gaming 3 Intel Core i7 10th Gen 15.6\"(39.62cm) FHD IPS Gaming Laptop (8GB/512GB SSD/4GB NVIDIA GTX 1650/120Hz/Windows 11/Backlit Keyboard/3months Game Pass/Onyx Black/2.2Kg), 81Y401BHIN',\n",
       " 'Lenovo IdeaPad Slim 5 Intel Core i7 12th Gen 15.6\" (39.62cm) FHD IPS Thin & Light Laptop (16GB/512GB SSD/Windows 11/Office 2021/Backlit/FPR/3months Game Pass/Storm Grey/1.85Kg), 82SF008WIN',\n",
       " '(Renewed) Dell Latitude E7470 Intel Core i7 6th Gen 14 inches Laptop /16 GB RAM/512 GB SSD/Windows 10 Pro/MS Office/HD Display/Integrated Graphics, 1.9 kg',\n",
       " 'Hp Pavilion X360 11Th Gen Intel Core I7 14 Inches Fhd Multitouch 2In1 Laptop (16Gb Ram/512Gb Ssd/B&O/Windows 11 Home/Fpr/Backlit Kb/Intel Iris Xe Graphics/Pen/Alexa/Ms Office/Silver/1.52Kg)14-Dy1047Tu',\n",
       " 'HP Pavilion 11th Gen Intel Core i7 15.6 inches(39.6cm) FHD Gaming Laptop (16GB RAM/512GB SSD/144Hz/4GB NVIDIA GeForce GTX 1650 Graphics/Windows 10 Home/MS Office/Shadow Black/2.28 Kg), 15-dk2075tx',\n",
       " '(Renewed) Dell Intel 6th Gen Core i7-6820HQ 15-Inch (38.1 cms) Touchscreen 1920x1080 Laptop (16 GB/512 GB SSD/Windows/MS Office Pro 2019 /AMD/Black/2.10 Kg), Latitude E5570',\n",
       " '(Renewed) Lenovo Intel Core i7 5600U 12.5-Inch (31.75 cms) HD (1366 X 768) Laptop (8 GB/256 GB SSD/Windows 10/Intel HD 5500//1.53 Kg), Lenovo X250',\n",
       " 'Samsung Galaxy Book2 Intel 12th Gen core i7 39.6cm (15.6\") FHD LED Thin & Light Laptop (16 GB/512 GB SSD/Windows 11/MS Office/Backlit Keyboard/Fingerprint Reader/Silver/1.55Kg), NP750XED-KC2IN']"
      ]
     },
     "execution_count": 278,
     "metadata": {},
     "output_type": "execute_result"
    }
   ],
   "source": [
    "product_title[0:10]"
   ]
  },
  {
   "cell_type": "code",
   "execution_count": 280,
   "id": "6ef47e1a",
   "metadata": {},
   "outputs": [],
   "source": [
    "product_price=[]"
   ]
  },
  {
   "cell_type": "code",
   "execution_count": 281,
   "id": "26a91e04",
   "metadata": {},
   "outputs": [],
   "source": [
    "price_tags=driver.find_elements(By.XPATH,'//span[@class=\"a-price-whole\"]')\n",
    "for i in price_tags[0:10]: \n",
    "     price=i.text\n",
    "     product_price.append(price)"
   ]
  },
  {
   "cell_type": "code",
   "execution_count": 282,
   "id": "0c39c769",
   "metadata": {},
   "outputs": [
    {
     "data": {
      "text/plain": [
       "10"
      ]
     },
     "execution_count": 282,
     "metadata": {},
     "output_type": "execute_result"
    }
   ],
   "source": [
    "len(product_price)"
   ]
  },
  {
   "cell_type": "code",
   "execution_count": 283,
   "id": "79631612",
   "metadata": {},
   "outputs": [
    {
     "data": {
      "text/plain": [
       "['57,990',\n",
       " '89,990',\n",
       " '62,990',\n",
       " '81,990',\n",
       " '38,899',\n",
       " '82,200',\n",
       " '86,600',\n",
       " '43,198',\n",
       " '23,998',\n",
       " '79,490']"
      ]
     },
     "execution_count": 283,
     "metadata": {},
     "output_type": "execute_result"
    }
   ],
   "source": [
    "product_price[0:10]"
   ]
  },
  {
   "cell_type": "markdown",
   "id": "e1ad756e",
   "metadata": {},
   "source": [
    "# Answer-9"
   ]
  },
  {
   "cell_type": "code",
   "execution_count": 218,
   "id": "976dc963",
   "metadata": {},
   "outputs": [],
   "source": [
    "driver=webdriver.Chrome(r\"chromedriver.exe\")"
   ]
  },
  {
   "cell_type": "code",
   "execution_count": 219,
   "id": "7f99ed2d",
   "metadata": {},
   "outputs": [],
   "source": [
    "driver.get(\"https://www.ambitionbox.com/\")"
   ]
  },
  {
   "cell_type": "code",
   "execution_count": 210,
   "id": "ff683bea",
   "metadata": {},
   "outputs": [],
   "source": [
    "search=driver.find_element(By.CLASS_NAME,\"search-button\")\n",
    "search.click()"
   ]
  },
  {
   "cell_type": "code",
   "execution_count": 220,
   "id": "9e0e9bfe",
   "metadata": {},
   "outputs": [],
   "source": [
    "designation=driver.find_element(By.XPATH,\"/html/body/section[1]/div/div/div/div[2]/form/span/input\")\n",
    "designation.send_keys('Data Scientist')"
   ]
  },
  {
   "cell_type": "code",
   "execution_count": 222,
   "id": "a97f1571",
   "metadata": {},
   "outputs": [],
   "source": [
    "search=driver.find_element(By.CLASS_NAME,\"ctas-btn-medium\")\n",
    "search.click()"
   ]
  },
  {
   "cell_type": "code",
   "execution_count": 227,
   "id": "e758ed8f",
   "metadata": {},
   "outputs": [],
   "source": [
    "job_location=[]"
   ]
  },
  {
   "cell_type": "code",
   "execution_count": 228,
   "id": "31fcac98",
   "metadata": {},
   "outputs": [],
   "source": [
    "location_tags=driver.find_elements(By.XPATH,\"/html/body/div/div/div/div[2]/div[1]/div[2]/div[1]/div/div/div/div[2]/div[1]\")\n",
    "for i in location_tags[0:10]:\n",
    "    location=i.text\n",
    "    job_location.append(location)"
   ]
  },
  {
   "cell_type": "code",
   "execution_count": 229,
   "id": "80948043",
   "metadata": {},
   "outputs": [],
   "source": [
    "company_name=[]"
   ]
  },
  {
   "cell_type": "code",
   "execution_count": 230,
   "id": "a65f9f89",
   "metadata": {},
   "outputs": [],
   "source": [
    "name_tags=driver.find_elements(By.XPATH,'//p[@class=\"company body-medium\"]')\n",
    "for i in name_tags[0:10]: \n",
    "     name=i.text\n",
    "     company_name.append(name)"
   ]
  },
  {
   "cell_type": "code",
   "execution_count": 231,
   "id": "6b3695c2",
   "metadata": {},
   "outputs": [
    {
     "data": {
      "text/plain": [
       "10"
      ]
     },
     "execution_count": 231,
     "metadata": {},
     "output_type": "execute_result"
    }
   ],
   "source": [
    "len(company_name)"
   ]
  },
  {
   "cell_type": "code",
   "execution_count": 232,
   "id": "44a10513",
   "metadata": {},
   "outputs": [
    {
     "data": {
      "text/plain": [
       "['CBRE South Asia Pvt Ltd',\n",
       " 'GENPACT India Private Limited',\n",
       " 'Genpact',\n",
       " 'Ericsson India Global Services Pvt. Ltd.',\n",
       " 'GENPACT India Private Limited',\n",
       " 'Optum Global Solutions (India) Private Limited',\n",
       " 'Optum Global Solutions (India) Private Limited',\n",
       " 'Ericsson India Global Services Pvt. Ltd.',\n",
       " 'SOPRA STERIA INDIA LIMITED',\n",
       " 'EXL Services.com ( I ) Pvt. Ltd.']"
      ]
     },
     "execution_count": 232,
     "metadata": {},
     "output_type": "execute_result"
    }
   ],
   "source": [
    "company_name[0:10]"
   ]
  },
  {
   "cell_type": "code",
   "execution_count": 233,
   "id": "3dc56534",
   "metadata": {},
   "outputs": [],
   "source": [
    "company_days=[]"
   ]
  },
  {
   "cell_type": "code",
   "execution_count": 234,
   "id": "99daea20",
   "metadata": {},
   "outputs": [],
   "source": [
    "days_tags=driver.find_elements(By.XPATH,'//span[@class=\"body-small-l\"]')\n",
    "for i in days_tags[0:10]:\n",
    "    days=i.text\n",
    "    company_days.append(days)"
   ]
  },
  {
   "cell_type": "code",
   "execution_count": 235,
   "id": "cbe87c8f",
   "metadata": {},
   "outputs": [
    {
     "data": {
      "text/plain": [
       "10"
      ]
     },
     "execution_count": 235,
     "metadata": {},
     "output_type": "execute_result"
    }
   ],
   "source": [
    "len(company_days)"
   ]
  },
  {
   "cell_type": "code",
   "execution_count": 239,
   "id": "0863710b",
   "metadata": {},
   "outputs": [
    {
     "data": {
      "text/plain": [
       "['8d ago',\n",
       " 'via naukri.com',\n",
       " '1d ago',\n",
       " 'via naukri.com',\n",
       " '3d ago',\n",
       " 'via iimjobs.com',\n",
       " '18d ago',\n",
       " 'via naukri.com',\n",
       " '11d ago',\n",
       " 'via naukri.com']"
      ]
     },
     "execution_count": 239,
     "metadata": {},
     "output_type": "execute_result"
    }
   ],
   "source": [
    "company_days[0:10]"
   ]
  },
  {
   "cell_type": "code",
   "execution_count": 240,
   "id": "02625586",
   "metadata": {},
   "outputs": [],
   "source": [
    "company_rating=[]"
   ]
  },
  {
   "cell_type": "code",
   "execution_count": 241,
   "id": "3396c25a",
   "metadata": {},
   "outputs": [],
   "source": [
    "rating_tags=driver.find_elements(By.XPATH,'//a[@class=\"rating rating-4\"]')\n",
    "for i in rating_tags[0:10]:\n",
    "    rating=i.text\n",
    "    company_rating.append(rating)"
   ]
  },
  {
   "cell_type": "code",
   "execution_count": 242,
   "id": "9631f7cb",
   "metadata": {},
   "outputs": [
    {
     "data": {
      "text/plain": [
       "10"
      ]
     },
     "execution_count": 242,
     "metadata": {},
     "output_type": "execute_result"
    }
   ],
   "source": [
    "len(company_rating)"
   ]
  },
  {
   "cell_type": "code",
   "execution_count": 243,
   "id": "38b18f42",
   "metadata": {},
   "outputs": [
    {
     "data": {
      "text/plain": [
       "['4.3', '4.3', '4.0', '4.0', '4.3', '4.0', '4.1', '4.1', '4.3', '4.2']"
      ]
     },
     "execution_count": 243,
     "metadata": {},
     "output_type": "execute_result"
    }
   ],
   "source": [
    "company_rating[0:10]"
   ]
  },
  {
   "cell_type": "code",
   "execution_count": 244,
   "id": "1c43203a",
   "metadata": {},
   "outputs": [
    {
     "name": "stdout",
     "output_type": "stream",
     "text": [
      "10 10 10\n"
     ]
    }
   ],
   "source": [
    "print(len(company_name[0:10]),len(company_rating[0:10]),len(company_days[0:10]))"
   ]
  },
  {
   "cell_type": "code",
   "execution_count": 245,
   "id": "cfe25dfc",
   "metadata": {},
   "outputs": [
    {
     "data": {
      "text/html": [
       "<div>\n",
       "<style scoped>\n",
       "    .dataframe tbody tr th:only-of-type {\n",
       "        vertical-align: middle;\n",
       "    }\n",
       "\n",
       "    .dataframe tbody tr th {\n",
       "        vertical-align: top;\n",
       "    }\n",
       "\n",
       "    .dataframe thead th {\n",
       "        text-align: right;\n",
       "    }\n",
       "</style>\n",
       "<table border=\"1\" class=\"dataframe\">\n",
       "  <thead>\n",
       "    <tr style=\"text-align: right;\">\n",
       "      <th></th>\n",
       "      <th>Company_name</th>\n",
       "      <th>Company_rating</th>\n",
       "      <th>Company_days</th>\n",
       "    </tr>\n",
       "  </thead>\n",
       "  <tbody>\n",
       "    <tr>\n",
       "      <th>0</th>\n",
       "      <td>CBRE South Asia Pvt Ltd</td>\n",
       "      <td>4.3</td>\n",
       "      <td>8d ago</td>\n",
       "    </tr>\n",
       "    <tr>\n",
       "      <th>1</th>\n",
       "      <td>GENPACT India Private Limited</td>\n",
       "      <td>4.3</td>\n",
       "      <td>via naukri.com</td>\n",
       "    </tr>\n",
       "    <tr>\n",
       "      <th>2</th>\n",
       "      <td>Genpact</td>\n",
       "      <td>4.0</td>\n",
       "      <td>1d ago</td>\n",
       "    </tr>\n",
       "    <tr>\n",
       "      <th>3</th>\n",
       "      <td>Ericsson India Global Services Pvt. Ltd.</td>\n",
       "      <td>4.0</td>\n",
       "      <td>via naukri.com</td>\n",
       "    </tr>\n",
       "    <tr>\n",
       "      <th>4</th>\n",
       "      <td>GENPACT India Private Limited</td>\n",
       "      <td>4.3</td>\n",
       "      <td>3d ago</td>\n",
       "    </tr>\n",
       "    <tr>\n",
       "      <th>5</th>\n",
       "      <td>Optum Global Solutions (India) Private Limited</td>\n",
       "      <td>4.0</td>\n",
       "      <td>via iimjobs.com</td>\n",
       "    </tr>\n",
       "    <tr>\n",
       "      <th>6</th>\n",
       "      <td>Optum Global Solutions (India) Private Limited</td>\n",
       "      <td>4.1</td>\n",
       "      <td>18d ago</td>\n",
       "    </tr>\n",
       "    <tr>\n",
       "      <th>7</th>\n",
       "      <td>Ericsson India Global Services Pvt. Ltd.</td>\n",
       "      <td>4.1</td>\n",
       "      <td>via naukri.com</td>\n",
       "    </tr>\n",
       "    <tr>\n",
       "      <th>8</th>\n",
       "      <td>SOPRA STERIA INDIA LIMITED</td>\n",
       "      <td>4.3</td>\n",
       "      <td>11d ago</td>\n",
       "    </tr>\n",
       "    <tr>\n",
       "      <th>9</th>\n",
       "      <td>EXL Services.com ( I ) Pvt. Ltd.</td>\n",
       "      <td>4.2</td>\n",
       "      <td>via naukri.com</td>\n",
       "    </tr>\n",
       "  </tbody>\n",
       "</table>\n",
       "</div>"
      ],
      "text/plain": [
       "                                     Company_name Company_rating  \\\n",
       "0                         CBRE South Asia Pvt Ltd            4.3   \n",
       "1                   GENPACT India Private Limited            4.3   \n",
       "2                                         Genpact            4.0   \n",
       "3        Ericsson India Global Services Pvt. Ltd.            4.0   \n",
       "4                   GENPACT India Private Limited            4.3   \n",
       "5  Optum Global Solutions (India) Private Limited            4.0   \n",
       "6  Optum Global Solutions (India) Private Limited            4.1   \n",
       "7        Ericsson India Global Services Pvt. Ltd.            4.1   \n",
       "8                      SOPRA STERIA INDIA LIMITED            4.3   \n",
       "9                EXL Services.com ( I ) Pvt. Ltd.            4.2   \n",
       "\n",
       "      Company_days  \n",
       "0           8d ago  \n",
       "1   via naukri.com  \n",
       "2           1d ago  \n",
       "3   via naukri.com  \n",
       "4           3d ago  \n",
       "5  via iimjobs.com  \n",
       "6          18d ago  \n",
       "7   via naukri.com  \n",
       "8          11d ago  \n",
       "9   via naukri.com  "
      ]
     },
     "execution_count": 245,
     "metadata": {},
     "output_type": "execute_result"
    }
   ],
   "source": [
    "df=pd.DataFrame({'Company_name':company_name[0:10] ,'Company_rating':company_rating[0:10],'Company_days':company_days[0:10]})\n",
    "df"
   ]
  },
  {
   "cell_type": "markdown",
   "id": "bf06f40a",
   "metadata": {},
   "source": [
    "# Answer-10"
   ]
  },
  {
   "cell_type": "code",
   "execution_count": 246,
   "id": "7c12e039",
   "metadata": {},
   "outputs": [],
   "source": [
    "driver=webdriver.Chrome(r\"chromedriver.exe\")"
   ]
  },
  {
   "cell_type": "code",
   "execution_count": 247,
   "id": "88e9e710",
   "metadata": {},
   "outputs": [],
   "source": [
    "driver.get(\"https://www.ambitionbox.com/\")"
   ]
  },
  {
   "cell_type": "code",
   "execution_count": 257,
   "id": "ecd42bfb",
   "metadata": {},
   "outputs": [],
   "source": [
    "name=driver.find_element(By.CLASS_NAME,\"tt-input\")\n",
    "name.send_keys('Data Scientist')"
   ]
  },
  {
   "cell_type": "code",
   "execution_count": 258,
   "id": "389e19ea",
   "metadata": {},
   "outputs": [],
   "source": [
    "company_name=[]"
   ]
  },
  {
   "cell_type": "code",
   "execution_count": 259,
   "id": "5d05461c",
   "metadata": {},
   "outputs": [],
   "source": [
    "name_tags=driver.find_elements(By.XPATH,'//div[@class=\"company-info\"]')\n",
    "for i in name_tags[0:10]: \n",
    "     name=i.text\n",
    "     company_name.append(name)"
   ]
  },
  {
   "cell_type": "code",
   "execution_count": 260,
   "id": "ceffcfc0",
   "metadata": {},
   "outputs": [
    {
     "data": {
      "text/plain": [
       "10"
      ]
     },
     "execution_count": 260,
     "metadata": {},
     "output_type": "execute_result"
    }
   ],
   "source": [
    "len(company_name)"
   ]
  },
  {
   "cell_type": "code",
   "execution_count": 261,
   "id": "77528d94",
   "metadata": {},
   "outputs": [
    {
     "data": {
      "text/plain": [
       "['Walmart\\nData Scientist Salary\\n3-4 yrs experience (based on 22 salaries)',\n",
       " 'Ab Inbev\\nData Scientist Salary\\n2-4 yrs experience (based on 53 salaries)',\n",
       " 'Optum\\nData Scientist Salary\\n2-4 yrs experience (based on 48 salaries)',\n",
       " 'ZS\\nData Scientist Salary\\n1-2 yrs experience (based on 33 salaries)',\n",
       " 'Fractal Analytics\\nData Scientist Salary\\n2-4 yrs experience (based on 109 salaries)',\n",
       " 'Tiger Analytics\\nData Scientist Salary\\n2-4 yrs experience (based on 65 salaries)',\n",
       " 'Legato Health Technologies\\nData Scientist Salary\\n4 yrs experience (based on 11 salaries)',\n",
       " 'Tredence\\nData Scientist Salary\\n3 yrs experience (based on 12 salaries)',\n",
       " 'UnitedHealth\\nData Scientist Salary\\n2-4 yrs experience (based on 91 salaries)',\n",
       " 'Ford Motor\\nData Scientist Salary\\n3-4 yrs experience (based on 21 salaries)']"
      ]
     },
     "execution_count": 261,
     "metadata": {},
     "output_type": "execute_result"
    }
   ],
   "source": [
    "company_name[0:10]"
   ]
  },
  {
   "cell_type": "code",
   "execution_count": 262,
   "id": "6f7b1211",
   "metadata": {},
   "outputs": [],
   "source": [
    "avg_salary=[] "
   ]
  },
  {
   "cell_type": "code",
   "execution_count": 263,
   "id": "b8459bf8",
   "metadata": {},
   "outputs": [],
   "source": [
    "salary_tags=driver.find_elements(By.XPATH,'//p[@class=\"averageCtc\"]')\n",
    "for i in salary_tags[0:10]: \n",
    "     salary=i.text\n",
    "     avg_salary.append(salary)"
   ]
  },
  {
   "cell_type": "code",
   "execution_count": 264,
   "id": "19d081a1",
   "metadata": {},
   "outputs": [
    {
     "data": {
      "text/plain": [
       "10"
      ]
     },
     "execution_count": 264,
     "metadata": {},
     "output_type": "execute_result"
    }
   ],
   "source": [
    "len(avg_salary)"
   ]
  },
  {
   "cell_type": "code",
   "execution_count": 265,
   "id": "459ecd47",
   "metadata": {},
   "outputs": [
    {
     "data": {
      "text/plain": [
       "['₹ 31.7L',\n",
       " '₹ 19.7L',\n",
       " '₹ 16.5L',\n",
       " '₹ 15.7L',\n",
       " '₹ 15.2L',\n",
       " '₹ 14.7L',\n",
       " '₹ 14.5L',\n",
       " '₹ 14.1L',\n",
       " '₹ 13.6L',\n",
       " '₹ 13.5L']"
      ]
     },
     "execution_count": 265,
     "metadata": {},
     "output_type": "execute_result"
    }
   ],
   "source": [
    "avg_salary[0:10]"
   ]
  },
  {
   "cell_type": "code",
   "execution_count": 266,
   "id": "f37d6008",
   "metadata": {},
   "outputs": [],
   "source": [
    "salary_value=[]"
   ]
  },
  {
   "cell_type": "code",
   "execution_count": 267,
   "id": "5a441626",
   "metadata": {},
   "outputs": [],
   "source": [
    "value_tags=driver.find_elements(By.XPATH,'//div[@class=\"salary-values\"]')\n",
    "for i in value_tags[0:10]: \n",
    "     value=i.text\n",
    "     salary_value.append(value)"
   ]
  },
  {
   "cell_type": "code",
   "execution_count": 268,
   "id": "5f86a77d",
   "metadata": {},
   "outputs": [
    {
     "data": {
      "text/plain": [
       "10"
      ]
     },
     "execution_count": 268,
     "metadata": {},
     "output_type": "execute_result"
    }
   ],
   "source": [
    "len(salary_value)"
   ]
  },
  {
   "cell_type": "code",
   "execution_count": 269,
   "id": "537c1c21",
   "metadata": {},
   "outputs": [
    {
     "data": {
      "text/plain": [
       "['₹ 25.0L\\n₹ 45.0L',\n",
       " '₹ 15.0L\\n₹ 25.5L',\n",
       " '₹ 11.0L\\n₹ 22.6L',\n",
       " '₹ 11.0L\\n₹ 22.0L',\n",
       " '₹ 9.0L\\n₹ 23.0L',\n",
       " '₹ 9.0L\\n₹ 20.0L',\n",
       " '₹ 11.0L\\n₹ 20.0L',\n",
       " '₹ 8.8L\\n₹ 17.5L',\n",
       " '₹ 8.0L\\n₹ 20.5L',\n",
       " '₹ 10.0L\\n₹ 18.0L']"
      ]
     },
     "execution_count": 269,
     "metadata": {},
     "output_type": "execute_result"
    }
   ],
   "source": [
    "salary_value[0:10]"
   ]
  },
  {
   "cell_type": "code",
   "execution_count": 271,
   "id": "54d9e613",
   "metadata": {},
   "outputs": [
    {
     "name": "stdout",
     "output_type": "stream",
     "text": [
      "10 10 10\n"
     ]
    }
   ],
   "source": [
    "print(len(company_name),len(avg_salary),len(salary_value))"
   ]
  },
  {
   "cell_type": "code",
   "execution_count": 272,
   "id": "e38d435c",
   "metadata": {},
   "outputs": [
    {
     "data": {
      "text/html": [
       "<div>\n",
       "<style scoped>\n",
       "    .dataframe tbody tr th:only-of-type {\n",
       "        vertical-align: middle;\n",
       "    }\n",
       "\n",
       "    .dataframe tbody tr th {\n",
       "        vertical-align: top;\n",
       "    }\n",
       "\n",
       "    .dataframe thead th {\n",
       "        text-align: right;\n",
       "    }\n",
       "</style>\n",
       "<table border=\"1\" class=\"dataframe\">\n",
       "  <thead>\n",
       "    <tr style=\"text-align: right;\">\n",
       "      <th></th>\n",
       "      <th>Company_name</th>\n",
       "      <th>Avg_salary</th>\n",
       "      <th>Salary_value</th>\n",
       "    </tr>\n",
       "  </thead>\n",
       "  <tbody>\n",
       "    <tr>\n",
       "      <th>0</th>\n",
       "      <td>Walmart\\nData Scientist Salary\\n3-4 yrs experi...</td>\n",
       "      <td>₹ 31.7L</td>\n",
       "      <td>₹ 25.0L\\n₹ 45.0L</td>\n",
       "    </tr>\n",
       "    <tr>\n",
       "      <th>1</th>\n",
       "      <td>Ab Inbev\\nData Scientist Salary\\n2-4 yrs exper...</td>\n",
       "      <td>₹ 19.7L</td>\n",
       "      <td>₹ 15.0L\\n₹ 25.5L</td>\n",
       "    </tr>\n",
       "    <tr>\n",
       "      <th>2</th>\n",
       "      <td>Optum\\nData Scientist Salary\\n2-4 yrs experien...</td>\n",
       "      <td>₹ 16.5L</td>\n",
       "      <td>₹ 11.0L\\n₹ 22.6L</td>\n",
       "    </tr>\n",
       "    <tr>\n",
       "      <th>3</th>\n",
       "      <td>ZS\\nData Scientist Salary\\n1-2 yrs experience ...</td>\n",
       "      <td>₹ 15.7L</td>\n",
       "      <td>₹ 11.0L\\n₹ 22.0L</td>\n",
       "    </tr>\n",
       "    <tr>\n",
       "      <th>4</th>\n",
       "      <td>Fractal Analytics\\nData Scientist Salary\\n2-4 ...</td>\n",
       "      <td>₹ 15.2L</td>\n",
       "      <td>₹ 9.0L\\n₹ 23.0L</td>\n",
       "    </tr>\n",
       "    <tr>\n",
       "      <th>5</th>\n",
       "      <td>Tiger Analytics\\nData Scientist Salary\\n2-4 yr...</td>\n",
       "      <td>₹ 14.7L</td>\n",
       "      <td>₹ 9.0L\\n₹ 20.0L</td>\n",
       "    </tr>\n",
       "    <tr>\n",
       "      <th>6</th>\n",
       "      <td>Legato Health Technologies\\nData Scientist Sal...</td>\n",
       "      <td>₹ 14.5L</td>\n",
       "      <td>₹ 11.0L\\n₹ 20.0L</td>\n",
       "    </tr>\n",
       "    <tr>\n",
       "      <th>7</th>\n",
       "      <td>Tredence\\nData Scientist Salary\\n3 yrs experie...</td>\n",
       "      <td>₹ 14.1L</td>\n",
       "      <td>₹ 8.8L\\n₹ 17.5L</td>\n",
       "    </tr>\n",
       "    <tr>\n",
       "      <th>8</th>\n",
       "      <td>UnitedHealth\\nData Scientist Salary\\n2-4 yrs e...</td>\n",
       "      <td>₹ 13.6L</td>\n",
       "      <td>₹ 8.0L\\n₹ 20.5L</td>\n",
       "    </tr>\n",
       "    <tr>\n",
       "      <th>9</th>\n",
       "      <td>Ford Motor\\nData Scientist Salary\\n3-4 yrs exp...</td>\n",
       "      <td>₹ 13.5L</td>\n",
       "      <td>₹ 10.0L\\n₹ 18.0L</td>\n",
       "    </tr>\n",
       "  </tbody>\n",
       "</table>\n",
       "</div>"
      ],
      "text/plain": [
       "                                        Company_name Avg_salary  \\\n",
       "0  Walmart\\nData Scientist Salary\\n3-4 yrs experi...    ₹ 31.7L   \n",
       "1  Ab Inbev\\nData Scientist Salary\\n2-4 yrs exper...    ₹ 19.7L   \n",
       "2  Optum\\nData Scientist Salary\\n2-4 yrs experien...    ₹ 16.5L   \n",
       "3  ZS\\nData Scientist Salary\\n1-2 yrs experience ...    ₹ 15.7L   \n",
       "4  Fractal Analytics\\nData Scientist Salary\\n2-4 ...    ₹ 15.2L   \n",
       "5  Tiger Analytics\\nData Scientist Salary\\n2-4 yr...    ₹ 14.7L   \n",
       "6  Legato Health Technologies\\nData Scientist Sal...    ₹ 14.5L   \n",
       "7  Tredence\\nData Scientist Salary\\n3 yrs experie...    ₹ 14.1L   \n",
       "8  UnitedHealth\\nData Scientist Salary\\n2-4 yrs e...    ₹ 13.6L   \n",
       "9  Ford Motor\\nData Scientist Salary\\n3-4 yrs exp...    ₹ 13.5L   \n",
       "\n",
       "       Salary_value  \n",
       "0  ₹ 25.0L\\n₹ 45.0L  \n",
       "1  ₹ 15.0L\\n₹ 25.5L  \n",
       "2  ₹ 11.0L\\n₹ 22.6L  \n",
       "3  ₹ 11.0L\\n₹ 22.0L  \n",
       "4   ₹ 9.0L\\n₹ 23.0L  \n",
       "5   ₹ 9.0L\\n₹ 20.0L  \n",
       "6  ₹ 11.0L\\n₹ 20.0L  \n",
       "7   ₹ 8.8L\\n₹ 17.5L  \n",
       "8   ₹ 8.0L\\n₹ 20.5L  \n",
       "9  ₹ 10.0L\\n₹ 18.0L  "
      ]
     },
     "execution_count": 272,
     "metadata": {},
     "output_type": "execute_result"
    }
   ],
   "source": [
    "df=pd.DataFrame({'Company_name':company_name,'Avg_salary':avg_salary,'Salary_value':salary_value})\n",
    "df"
   ]
  },
  {
   "cell_type": "code",
   "execution_count": null,
   "id": "8a43812f",
   "metadata": {},
   "outputs": [],
   "source": []
  }
 ],
 "metadata": {
  "kernelspec": {
   "display_name": "Python 3 (ipykernel)",
   "language": "python",
   "name": "python3"
  },
  "language_info": {
   "codemirror_mode": {
    "name": "ipython",
    "version": 3
   },
   "file_extension": ".py",
   "mimetype": "text/x-python",
   "name": "python",
   "nbconvert_exporter": "python",
   "pygments_lexer": "ipython3",
   "version": "3.9.7"
  }
 },
 "nbformat": 4,
 "nbformat_minor": 5
}
